{
 "cells": [
  {
   "cell_type": "code",
   "execution_count": 1,
   "id": "2996f02a",
   "metadata": {},
   "outputs": [
    {
     "name": "stdout",
     "output_type": "stream",
     "text": [
      "Requirement already satisfied: psycopg2 in c:\\users\\thiago.silva\\appdata\\local\\anaconda3\\lib\\site-packages (2.9.6)\n"
     ]
    }
   ],
   "source": [
    "import pandas as pd\n",
    "\n",
    "!pip install psycopg2\n",
    "import psycopg2"
   ]
  },
  {
   "cell_type": "code",
   "execution_count": 2,
   "id": "509f60c7",
   "metadata": {},
   "outputs": [
    {
     "name": "stdout",
     "output_type": "stream",
     "text": [
      "['ESTB - layout', 'BAIRRO_SP', 'BAIRRO FORT', 'BAIRRO_RJ', 'DISTRITO_SP', 'REG ADM DF', 'municipio', 'subclasse 2.0', 'classe 1.0 ou 95']\n"
     ]
    }
   ],
   "source": [
    "# Nome do arquivo Excel\n",
    "excel_file = 'C:/Users/thiago.silva/TCC/RAIS/RAIS_estabelecimento_layout2018e2019.xlsx'\n",
    "\n",
    "# Leitura do arquivo Excel\n",
    "excel_data = pd.ExcelFile(excel_file)\n",
    "\n",
    "# Extrai os nomes das abas em uma lista\n",
    "aba_names = excel_data.sheet_names\n",
    "\n",
    "# Imprime os nomes das abas\n",
    "print(aba_names)"
   ]
  },
  {
   "cell_type": "code",
   "execution_count": 15,
   "id": "6ca2e648",
   "metadata": {},
   "outputs": [
    {
     "name": "stdout",
     "output_type": "stream",
     "text": [
      "Lendo aba BAIRRO_SP...\n",
      "Criando tabela tb_rais_desc_bairro_sp no postgres...\n",
      "Dados inseridos no banco com sucesso!\n",
      "Lendo aba BAIRRO FORT...\n",
      "Criando tabela tb_rais_desc_bairro_fortaleza no postgres...\n",
      "Dados inseridos no banco com sucesso!\n",
      "Lendo aba BAIRRO_RJ...\n",
      "Criando tabela tb_rais_desc_bairro_rio no postgres...\n",
      "Dados inseridos no banco com sucesso!\n",
      "Lendo aba DISTRITO_SP...\n",
      "Criando tabela tb_rais_desc_distrito_sp no postgres...\n",
      "Dados inseridos no banco com sucesso!\n",
      "Lendo aba REG ADM DF...\n",
      "Criando tabela tb_rais_desc_ra_df no postgres...\n",
      "Dados inseridos no banco com sucesso!\n",
      "Lendo aba municipio...\n",
      "Criando tabela tb_rais_desc_municipio no postgres...\n",
      "Dados inseridos no banco com sucesso!\n",
      "Lendo aba subclasse 2.0...\n",
      "Criando tabela tb_rais_desc_subclasse_cnae2 no postgres...\n",
      "Dados inseridos no banco com sucesso!\n",
      "Lendo aba classe 1.0 ou 95...\n",
      "Criando tabela tb_rais_desc_classe1_95 no postgres...\n",
      "Dados inseridos no banco com sucesso!\n"
     ]
    }
   ],
   "source": [
    "# Configurações do banco de dados PostgreSQL\n",
    "db_config = {\n",
    "    \"host\"      : \"dataiesb.iesbtech.com.br\",\n",
    "    \"database\"  : \"IESB_Empresas\",\n",
    "    \"user\"      : \"1922120026_TCC_Thiago\",\n",
    "    \"password\"  : \"********\"}\n",
    "\n",
    "# Dicionário com as correspondências entre abas e sufixos\n",
    "sufixos1 = {'BAIRRO_SP': 'bairro_sp',\n",
    "           'BAIRRO FORT': 'bairro_fortaleza',\n",
    "           'BAIRRO_RJ': 'bairro_rio',\n",
    "           'DISTRITO_SP': 'distrito_sp',\n",
    "           'REG ADM DF': 'ra_df'}\n",
    "sufixos2 = {'municipio': 'municipio',\n",
    "           'subclasse 2.0': 'subclasse_cnae2',\n",
    "           'classe 1.0 ou 95': 'classe1_95'}\n",
    "\n",
    "# Função para criar uma tabela no banco de dados\n",
    "def create_table1(cursor, table_name):\n",
    "    create_table_query = f\"CREATE TABLE {table_name} (categorias TEXT, descricao TEXT, valor_fonte TEXT);\"\n",
    "    cursor.execute(create_table_query)\n",
    "    \n",
    "# Função para criar uma tabela no banco de dados\n",
    "def create_table2(cursor, table_name):\n",
    "    create_table_query = f\"CREATE TABLE {table_name} (codigo TEXT, descricao TEXT);\"\n",
    "    cursor.execute(create_table_query)\n",
    "\n",
    "    # Conexão com o banco de dados\n",
    "conn = psycopg2.connect(**db_config)\n",
    "cursor = conn.cursor()\n",
    "\n",
    "# Leitura do arquivo Excel\n",
    "excel_data = pd.read_excel(excel_file, sheet_name=None)\n",
    "\n",
    "# Itera sobre as abas do arquivo Excel\n",
    "for sheet_name, data_frame in excel_data.items():\n",
    "    # Verifica se há um sufixo definido para a aba\n",
    "    if sheet_name in sufixos1:\n",
    "        print(f'Lendo aba {sheet_name}...')\n",
    "        sufixo = sufixos1[sheet_name]\n",
    "        table_name = f'tb_rais_desc_{sufixo}'\n",
    "\n",
    "        # Criação da tabela no banco de dados\n",
    "        print(f'Criando tabela {table_name} no postgres...')\n",
    "        create_table1(cursor, table_name)\n",
    "        conn.commit()\n",
    "\n",
    "        # Itera sobre as colunas\n",
    "        for _, row in data_frame.iterrows():\n",
    "            categorias = row['Categorias']\n",
    "            descricao = row['Descrição']\n",
    "            valor_fonte = row['Valor na Fonte']\n",
    "\n",
    "            # Inserção dos dados na tabela\n",
    "            insert_query = f\"INSERT INTO {table_name} (categorias, descricao, valor_fonte) VALUES (%s, %s, %s);\"\n",
    "            cursor.execute(insert_query, (categorias, descricao, valor_fonte))\n",
    "            conn.commit()\n",
    "        print('Dados inseridos no banco com sucesso!')\n",
    "\n",
    "for sheet_name, data_frame in excel_data.items():\n",
    "    # Verifica se há um sufixo definido para a aba\n",
    "    if sheet_name in sufixos2:\n",
    "        print(f'Lendo aba {sheet_name}...')\n",
    "        sufixo = sufixos2[sheet_name]\n",
    "        table_name = f'tb_rais_desc_{sufixo}'\n",
    "\n",
    "        # Criação da tabela no banco de dados\n",
    "        print(f'Criando tabela {table_name} no postgres...')\n",
    "        create_table2(cursor, table_name)\n",
    "        conn.commit()\n",
    "\n",
    "        # Itera sobre as colunas\n",
    "        for _, row in data_frame.iterrows():\n",
    "            codigo = row['Código']\n",
    "            descricao = row['Descrição']\n",
    "\n",
    "            # Inserção dos dados na tabela\n",
    "            insert_query = f\"INSERT INTO {table_name} (codigo, descricao) VALUES (%s, %s);\"\n",
    "            cursor.execute(insert_query, (codigo, descricao))\n",
    "            conn.commit()\n",
    "        print('Dados inseridos no banco com sucesso!')\n",
    "\n",
    "# Fechamento da conexão com o banco de dados\n",
    "cursor.close()\n",
    "conn.close()"
   ]
  }
 ],
 "metadata": {
  "kernelspec": {
   "display_name": "Python 3 (ipykernel)",
   "language": "python",
   "name": "python3"
  },
  "language_info": {
   "codemirror_mode": {
    "name": "ipython",
    "version": 3
   },
   "file_extension": ".py",
   "mimetype": "text/x-python",
   "name": "python",
   "nbconvert_exporter": "python",
   "pygments_lexer": "ipython3",
   "version": "3.10.9"
  }
 },
 "nbformat": 4,
 "nbformat_minor": 5
}
