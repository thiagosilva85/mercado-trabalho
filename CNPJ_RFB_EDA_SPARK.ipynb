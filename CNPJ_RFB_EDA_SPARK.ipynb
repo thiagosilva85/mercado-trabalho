{
 "cells": [
  {
   "cell_type": "markdown",
   "metadata": {},
   "source": [
    "Instalação das bibliotecas básicas"
   ]
  },
  {
   "cell_type": "code",
   "execution_count": null,
   "metadata": {
    "colab": {
     "base_uri": "https://localhost:8080/"
    },
    "id": "JExNN2HZAUfL",
    "outputId": "50e7bf9c-5952-4226-f561-94d72a2bbff9"
   },
   "outputs": [],
   "source": [
    "import pandas as pd \n",
    "import numpy as np\n",
    "import random\n",
    "import os"
   ]
  },
  {
   "cell_type": "markdown",
   "metadata": {
    "id": "FeGUKtbPjBCu"
   },
   "source": [
    "### Instalação Spark\n",
    "\n",
    "Para a constituição do ambiente Spark, basta a execução da célula abaixo. (*dura cerca de 40 segundos*)"
   ]
  },
  {
   "cell_type": "code",
   "execution_count": 2,
   "metadata": {},
   "outputs": [
    {
     "name": "stdout",
     "output_type": "stream",
     "text": [
      "Requirement already satisfied: findspark in c:\\users\\thiago.silva\\appdata\\local\\anaconda3\\lib\\site-packages (2.0.1)\n",
      "Note: you may need to restart the kernel to use updated packages.\n"
     ]
    }
   ],
   "source": [
    "%pip install findspark"
   ]
  },
  {
   "cell_type": "code",
   "execution_count": 3,
   "metadata": {},
   "outputs": [
    {
     "name": "stdout",
     "output_type": "stream",
     "text": [
      "Requirement already satisfied: pyspark in c:\\users\\thiago.silva\\appdata\\local\\anaconda3\\lib\\site-packages (3.2.1)\n",
      "Requirement already satisfied: py4j==0.10.9.3 in c:\\users\\thiago.silva\\appdata\\local\\anaconda3\\lib\\site-packages (from pyspark) (0.10.9.3)\n",
      "Note: you may need to restart the kernel to use updated packages.\n"
     ]
    }
   ],
   "source": [
    "%pip install pyspark"
   ]
  },
  {
   "cell_type": "code",
   "execution_count": 4,
   "metadata": {},
   "outputs": [],
   "source": [
    "import findspark\n",
    "findspark.init()"
   ]
  },
  {
   "cell_type": "code",
   "execution_count": 5,
   "metadata": {},
   "outputs": [],
   "source": [
    "from pyspark.sql import SparkSession\n",
    "spark = SparkSession.builder.appName(\"app\").getOrCreate()"
   ]
  },
  {
   "cell_type": "code",
   "execution_count": 7,
   "metadata": {},
   "outputs": [
    {
     "data": {
      "text/html": [
       "\n",
       "            <div>\n",
       "                <p><b>SparkSession - in-memory</b></p>\n",
       "                \n",
       "        <div>\n",
       "            <p><b>SparkContext</b></p>\n",
       "\n",
       "            <p><a href=\"http://STINB-118661.sistema-cni.org.br:4040\">Spark UI</a></p>\n",
       "\n",
       "            <dl>\n",
       "              <dt>Version</dt>\n",
       "                <dd><code>v3.4.0</code></dd>\n",
       "              <dt>Master</dt>\n",
       "                <dd><code>local[*]</code></dd>\n",
       "              <dt>AppName</dt>\n",
       "                <dd><code>app</code></dd>\n",
       "            </dl>\n",
       "        </div>\n",
       "        \n",
       "            </div>\n",
       "        "
      ],
      "text/plain": [
       "<pyspark.sql.session.SparkSession at 0x2539baee9b0>"
      ]
     },
     "execution_count": 7,
     "metadata": {},
     "output_type": "execute_result"
    }
   ],
   "source": [
    "spark"
   ]
  },
  {
   "cell_type": "markdown",
   "metadata": {},
   "source": [
    "### Por que usar Spark nesse contexto?"
   ]
  },
  {
   "cell_type": "markdown",
   "metadata": {},
   "source": [
    "Vamos comparar o tempo de execução de um comando de importação de um dataframe pandas e de um dataframe do spark."
   ]
  },
  {
   "cell_type": "code",
   "execution_count": 149,
   "metadata": {},
   "outputs": [
    {
     "name": "stdout",
     "output_type": "stream",
     "text": [
      "<class 'pandas.core.frame.DataFrame'>\n",
      "RangeIndex: 9387789 entries, 0 to 9387788\n",
      "Data columns (total 7 columns):\n",
      " #   Column          Dtype  \n",
      "---  ------          -----  \n",
      " 0   CNPJ_RAD        int64  \n",
      " 1   RAZAO_SOCIAL    object \n",
      " 2   NAT_JURIDICA    int64  \n",
      " 3   QUALIFICA_RESP  int64  \n",
      " 4   CAPITAL_SOCIAL  object \n",
      " 5   PORTE           float64\n",
      " 6   ENTE_FED_RESP   object \n",
      "dtypes: float64(1), int64(3), object(3)\n",
      "memory usage: 501.4+ MB\n",
      "\n",
      "Tempo de execução com pandas (em segundos): 12.83230996131897\n"
     ]
    }
   ],
   "source": [
    "import time\n",
    "\n",
    "inicio = time.time()\n",
    "\n",
    "cabecalho=['CNPJ_RAD', \\\n",
    "           'RAZAO_SOCIAL', \\\n",
    "           'NAT_JURIDICA', \\\n",
    "           'QUALIFICA_RESP', \\\n",
    "           'CAPITAL_SOCIAL', \\\n",
    "           'PORTE', \\\n",
    "           'ENTE_FED_RESP']\n",
    "\n",
    "dataframe = pd.read_csv('RFB_CNPJ_EMPRESA_0.CSV', \\\n",
    "                            header=None, names=cabecalho, sep=';', encoding='windows-1252', low_memory=False)\n",
    "dataframe.info()\n",
    "\n",
    "fim = time.time()\n",
    "\n",
    "print(f'\\nTempo de execução com pandas (em segundos): {fim - inicio}')"
   ]
  },
  {
   "cell_type": "code",
   "execution_count": 150,
   "metadata": {},
   "outputs": [
    {
     "name": "stdout",
     "output_type": "stream",
     "text": [
      "root\n",
      " |-- CNPJ_RAD: string (nullable = true)\n",
      " |-- RAZAO_SOCIAL: string (nullable = true)\n",
      " |-- NAT_JURIDICA: string (nullable = true)\n",
      " |-- QUALIFICA_RESP: string (nullable = true)\n",
      " |-- CAPITAL_SOCIAL: string (nullable = true)\n",
      " |-- PORTE: string (nullable = true)\n",
      " |-- ENTE_FED_RESP: string (nullable = true)\n",
      "\n",
      "Tempo de execução com pyspark (em segundos): 0.40335845947265625\n"
     ]
    }
   ],
   "source": [
    "inicio = time.time()\n",
    "\n",
    "csvSchema = StructType(\n",
    "    [StructField('CNPJ_RAD',StringType(),True),\\\n",
    "     StructField('RAZAO_SOCIAL',StringType(),True),\\\n",
    "     StructField('NAT_JURIDICA',StringType(),True),\\\n",
    "     StructField('QUALIFICA_RESP',StringType(),True),\\\n",
    "     StructField('CAPITAL_SOCIAL',StringType(),True),\\\n",
    "     StructField('PORTE',StringType(),True),\\\n",
    "     StructField('ENTE_FED_RESP',StringType(),True)])\n",
    "\n",
    "dataframe = spark.read.csv('RFB_CNPJ_EMPRESA_0.CSV', header=None, schema=csvSchema, sep=';', encoding='windows-1252')\n",
    "\n",
    "dataframe.printSchema()\n",
    "\n",
    "fim = time.time()\n",
    "\n",
    "print(f'Tempo de execução com pyspark (em segundos): {fim - inicio}')"
   ]
  },
  {
   "cell_type": "markdown",
   "metadata": {},
   "source": [
    "Com o pandas o dataframe levou 12,8 segundos para carragar e com o pyspark, esse mesmo dataframe, levou 0,4 segundos para ser carregado, um tempo 32 vezes mais rápido (!!!)<br><br>\n",
    "Dada o volume de dados a ser trabalhado nesse cenário, a opção natural, é portando, o uso do pyspark para análise exploratória."
   ]
  },
  {
   "cell_type": "markdown",
   "metadata": {},
   "source": [
    "### Iniciando a exploração dos dados"
   ]
  },
  {
   "cell_type": "markdown",
   "metadata": {},
   "source": [
    "Importando bibliotecas específicas do pyspark"
   ]
  },
  {
   "cell_type": "code",
   "execution_count": 6,
   "metadata": {},
   "outputs": [],
   "source": [
    "from pyspark.sql.types import *\n",
    "import pyspark.sql.functions as f"
   ]
  },
  {
   "cell_type": "markdown",
   "metadata": {},
   "source": [
    "## Empresas"
   ]
  },
  {
   "cell_type": "code",
   "execution_count": 7,
   "metadata": {},
   "outputs": [],
   "source": [
    "csvSchema = StructType(\n",
    "    [StructField('CNPJ_RAD',StringType(),True),\\\n",
    "     StructField('RAZAO_SOCIAL',StringType(),True),\\\n",
    "     StructField('NAT_JURIDICA',StringType(),True),\\\n",
    "     StructField('QUALIFICA_RESP',StringType(),True),\\\n",
    "     StructField('CAPITAL_SOCIAL',StringType(),True),\\\n",
    "     StructField('PORTE',StringType(),True),\\\n",
    "     StructField('ENTE_FED_RESP',StringType(),True)])"
   ]
  },
  {
   "cell_type": "code",
   "execution_count": 8,
   "metadata": {},
   "outputs": [],
   "source": [
    "csvFilesEmpresa = ['RFB_CNPJ_EMPRESA_0.CSV',\\\n",
    "                  'RFB_CNPJ_EMPRESA_1.CSV',\\\n",
    "                  'RFB_CNPJ_EMPRESA_2.CSV',\\\n",
    "                  'RFB_CNPJ_EMPRESA_3.CSV',\\\n",
    "                  'RFB_CNPJ_EMPRESA_4.CSV',\\\n",
    "                  'RFB_CNPJ_EMPRESA_5.CSV',\\\n",
    "                  'RFB_CNPJ_EMPRESA_6.CSV',\\\n",
    "                  'RFB_CNPJ_EMPRESA_7.CSV',\\\n",
    "                  'RFB_CNPJ_EMPRESA_8.CSV',\\\n",
    "                  'RFB_CNPJ_EMPRESA_9.CSV']"
   ]
  },
  {
   "cell_type": "code",
   "execution_count": 9,
   "metadata": {},
   "outputs": [],
   "source": [
    "empresa = spark.read.csv(csvFilesEmpresa, header=None, schema=csvSchema, sep=';', encoding='windows-1252')"
   ]
  },
  {
   "cell_type": "code",
   "execution_count": 9,
   "metadata": {},
   "outputs": [
    {
     "data": {
      "text/html": [
       "<table border='1'>\n",
       "<tr><th>CNPJ_RAD</th><th>RAZAO_SOCIAL</th><th>NAT_JURIDICA</th><th>QUALIFICA_RESP</th><th>CAPITAL_SOCIAL</th><th>PORTE</th><th>ENTE_FED_RESP</th></tr>\n",
       "<tr><td>41273602</td><td>FABIO SOUZA DO RO...</td><td>2135</td><td>50</td><td>15000,00</td><td>01</td><td>null</td></tr>\n",
       "<tr><td>41273603</td><td>GRAFLINE ACESSORI...</td><td>2062</td><td>49</td><td>10000,00</td><td>01</td><td>null</td></tr>\n",
       "<tr><td>41273604</td><td>RUMO - ESTUDIO DE...</td><td>2062</td><td>49</td><td>10000,00</td><td>01</td><td>null</td></tr>\n",
       "<tr><td>41273605</td><td>WALLACE DE OLIVEI...</td><td>2135</td><td>50</td><td>1000,00</td><td>01</td><td>null</td></tr>\n",
       "<tr><td>41273606</td><td>MARCOS CESAR DE M...</td><td>2135</td><td>50</td><td>72000,00</td><td>01</td><td>null</td></tr>\n",
       "<tr><td>41273607</td><td>LAYANE SCARLETT D...</td><td>2135</td><td>50</td><td>1,00</td><td>01</td><td>null</td></tr>\n",
       "<tr><td>41273608</td><td>FRANCISCA SAMPAIO...</td><td>2135</td><td>50</td><td>0,00</td><td>01</td><td>null</td></tr>\n",
       "<tr><td>41273609</td><td>INGRID DIAS ALVES...</td><td>2135</td><td>50</td><td>10000,00</td><td>01</td><td>null</td></tr>\n",
       "<tr><td>41273610</td><td>DAIANE DE SOUZA 0...</td><td>2135</td><td>50</td><td>2500,00</td><td>01</td><td>null</td></tr>\n",
       "<tr><td>41273611</td><td>RENATO MOREIRA DA...</td><td>2135</td><td>50</td><td>2000,00</td><td>01</td><td>null</td></tr>\n",
       "<tr><td>41273612</td><td>ELLEN FABIANI SOU...</td><td>2062</td><td>49</td><td>1000,00</td><td>01</td><td>null</td></tr>\n",
       "<tr><td>41273613</td><td>ICARO SALAZAR FAR...</td><td>2135</td><td>50</td><td>1000,00</td><td>01</td><td>null</td></tr>\n",
       "<tr><td>41273614</td><td>SERGIO BUENO DE F...</td><td>2135</td><td>50</td><td>3000,00</td><td>01</td><td>null</td></tr>\n",
       "<tr><td>41273615</td><td>FELIPE FERREIRA D...</td><td>2135</td><td>50</td><td>5000,00</td><td>01</td><td>null</td></tr>\n",
       "<tr><td>41273616</td><td>ANTONIO MORAIS DA...</td><td>2135</td><td>50</td><td>0,00</td><td>01</td><td>null</td></tr>\n",
       "<tr><td>41273617</td><td>EDUARDO SOARES DA...</td><td>2135</td><td>50</td><td>1000,00</td><td>01</td><td>null</td></tr>\n",
       "<tr><td>41273618</td><td>JENYFER STEPHANIE...</td><td>2135</td><td>50</td><td>5000,00</td><td>01</td><td>null</td></tr>\n",
       "<tr><td>41273619</td><td>HUGO LEANDRO DIAS...</td><td>2135</td><td>50</td><td>10000,00</td><td>01</td><td>null</td></tr>\n",
       "<tr><td>41273620</td><td>ROGER PADILHA BAG...</td><td>2135</td><td>50</td><td>1,00</td><td>01</td><td>null</td></tr>\n",
       "<tr><td>41273621</td><td>PAULO ROBERTO JES...</td><td>2135</td><td>50</td><td>100,00</td><td>01</td><td>null</td></tr>\n",
       "</table>\n",
       "only showing top 20 rows\n"
      ],
      "text/plain": [
       "+--------+--------------------+------------+--------------+--------------+-----+-------------+\n",
       "|CNPJ_RAD|        RAZAO_SOCIAL|NAT_JURIDICA|QUALIFICA_RESP|CAPITAL_SOCIAL|PORTE|ENTE_FED_RESP|\n",
       "+--------+--------------------+------------+--------------+--------------+-----+-------------+\n",
       "|41273602|FABIO SOUZA DO RO...|        2135|            50|      15000,00|   01|         null|\n",
       "|41273603|GRAFLINE ACESSORI...|        2062|            49|      10000,00|   01|         null|\n",
       "|41273604|RUMO - ESTUDIO DE...|        2062|            49|      10000,00|   01|         null|\n",
       "|41273605|WALLACE DE OLIVEI...|        2135|            50|       1000,00|   01|         null|\n",
       "|41273606|MARCOS CESAR DE M...|        2135|            50|      72000,00|   01|         null|\n",
       "|41273607|LAYANE SCARLETT D...|        2135|            50|          1,00|   01|         null|\n",
       "|41273608|FRANCISCA SAMPAIO...|        2135|            50|          0,00|   01|         null|\n",
       "|41273609|INGRID DIAS ALVES...|        2135|            50|      10000,00|   01|         null|\n",
       "|41273610|DAIANE DE SOUZA 0...|        2135|            50|       2500,00|   01|         null|\n",
       "|41273611|RENATO MOREIRA DA...|        2135|            50|       2000,00|   01|         null|\n",
       "|41273612|ELLEN FABIANI SOU...|        2062|            49|       1000,00|   01|         null|\n",
       "|41273613|ICARO SALAZAR FAR...|        2135|            50|       1000,00|   01|         null|\n",
       "|41273614|SERGIO BUENO DE F...|        2135|            50|       3000,00|   01|         null|\n",
       "|41273615|FELIPE FERREIRA D...|        2135|            50|       5000,00|   01|         null|\n",
       "|41273616|ANTONIO MORAIS DA...|        2135|            50|          0,00|   01|         null|\n",
       "|41273617|EDUARDO SOARES DA...|        2135|            50|       1000,00|   01|         null|\n",
       "|41273618|JENYFER STEPHANIE...|        2135|            50|       5000,00|   01|         null|\n",
       "|41273619|HUGO LEANDRO DIAS...|        2135|            50|      10000,00|   01|         null|\n",
       "|41273620|ROGER PADILHA BAG...|        2135|            50|          1,00|   01|         null|\n",
       "|41273621|PAULO ROBERTO JES...|        2135|            50|        100,00|   01|         null|\n",
       "+--------+--------------------+------------+--------------+--------------+-----+-------------+\n",
       "only showing top 20 rows"
      ]
     },
     "metadata": {},
     "output_type": "display_data"
    }
   ],
   "source": [
    "display(empresa)"
   ]
  },
  {
   "cell_type": "markdown",
   "metadata": {},
   "source": [
    "#### Quantidade de registros na base de Empresas"
   ]
  },
  {
   "cell_type": "code",
   "execution_count": 10,
   "metadata": {},
   "outputs": [
    {
     "data": {
      "text/plain": [
       "49841529"
      ]
     },
     "execution_count": 10,
     "metadata": {},
     "output_type": "execute_result"
    }
   ],
   "source": [
    "empresa.count()"
   ]
  },
  {
   "cell_type": "markdown",
   "metadata": {},
   "source": [
    "#### Porte das empresas"
   ]
  },
  {
   "cell_type": "code",
   "execution_count": 111,
   "metadata": {},
   "outputs": [
    {
     "name": "stdout",
     "output_type": "stream",
     "text": [
      "+------------------------+--------+\n",
      "|DESC_PORTE              |count   |\n",
      "+------------------------+--------+\n",
      "|MICRO EMPRESA           |34995753|\n",
      "|DEMAIS                  |13489254|\n",
      "|EMPRESA DE PEQUENO PORTE|1292685 |\n",
      "|Não informado           |63837   |\n",
      "+------------------------+--------+\n",
      "\n"
     ]
    }
   ],
   "source": [
    "df_porte = empresa\\\n",
    "            .select('PORTE')\\\n",
    "            .groupby('PORTE')\\\n",
    "            .count()\\\n",
    "            .sort('count',ascending=False)\n",
    "\n",
    "df_porte = df_porte.withColumn('DESC_PORTE', \n",
    "                     f.when(f.col('PORTE') == '01','MICRO EMPRESA')\n",
    "                      .when(f.col('PORTE') == '03','EMPRESA DE PEQUENO PORTE')\n",
    "                      .when(f.col('PORTE') == '05','DEMAIS')\n",
    "                     .otherwise(f.lit('Não informado'))\n",
    "                    )\n",
    "df_porte.drop('PORTE')\n",
    "\n",
    "df_porte.select('DESC_PORTE','count').show(truncate=False)"
   ]
  },
  {
   "cell_type": "markdown",
   "metadata": {},
   "source": [
    "#### Capital Social"
   ]
  },
  {
   "cell_type": "code",
   "execution_count": 129,
   "metadata": {},
   "outputs": [],
   "source": [
    "from pyspark.sql.types import IntegerType\n",
    "\n",
    "empresa = empresa.withColumn(\"CAPITAL_SOCIAL_N\", f.regexp_replace(\"CAPITAL_SOCIAL\",',','.').cast(IntegerType()))"
   ]
  },
  {
   "cell_type": "code",
   "execution_count": 139,
   "metadata": {},
   "outputs": [],
   "source": [
    "df_capital = empresa\\\n",
    "            .select('CNPJ_RAD','RAZAO_SOCIAL','CAPITAL_SOCIAL_N')\\\n",
    "            .groupby('CNPJ_RAD','RAZAO_SOCIAL')\\\n",
    "            .sum()\\\n",
    "            .sort('sum(CAPITAL_SOCIAL_N)',ascending=False)\\\n",
    "            .withColumnRenamed('sum(CAPITAL_SOCIAL_N)','CAPITAL_SOCIAL_TOTAL')"
   ]
  },
  {
   "cell_type": "code",
   "execution_count": 140,
   "metadata": {},
   "outputs": [
    {
     "name": "stdout",
     "output_type": "stream",
     "text": [
      "+-------------------------------------------------------------------+--------------------+\n",
      "|RAZAO_SOCIAL                                                       |CAPITAL_SOCIAL_TOTAL|\n",
      "+-------------------------------------------------------------------+--------------------+\n",
      "|CNH INDUSTRIAL LATIN AMERICA LTDA.                                 |2146078578          |\n",
      "|COMPANHIA DE ALUMINA DO PARA                                       |2143204237          |\n",
      "|SUMMIT EMPREENDIMENTOS MINERAIS LTDA.                              |2140703000          |\n",
      "|SOMPO INTERNATIONAL HOLDINGS BRASIL LTDA                           |2136264866          |\n",
      "|JNS 41 PARTICIPACOES LTDA.                                         |2135897701          |\n",
      "|COOPERATIVA AGROINDUSTRIAL DOS PRODUTORES RURAIS DO SUDOESTE GOIANO|2134567988          |\n",
      "|EDP RENOVAVEIS BRASIL S/A                                          |2129472300          |\n",
      "|ALTO SERTAO PARTICIPACOES S.A. EM RECUPERACAO JUDICIAL             |2128113290          |\n",
      "|CAOA CHERY AUTOMOVEIS LTDA.                                        |2126405706          |\n",
      "|SHLTR II PARTICIPACOES S.A.                                        |2126249500          |\n",
      "|BOLD CAPITAL INVESTIMENTOS ASSESSORIA E PARTICIPACAO LTDA - SCP 01 |2126000000          |\n",
      "|BANCO FIBRA SA                                                     |2124887840          |\n",
      "|CAIXA PARTICIPACOES S/A - CAIXAPAR                                 |2123409235          |\n",
      "|AES BRASIL ENERGIA S.A.                                            |2116000500          |\n",
      "|BANCO COOPERATIVO SICOOB S.A.                                      |2110226464          |\n",
      "|SICREDI PARTICIPACOES S.A.                                         |2108211122          |\n",
      "|BANCO CREDIT AGRICOLE BRASIL S.A.                                  |2105673006          |\n",
      "|JOAO FORTES ENGENHARIA S A                                         |2103387497          |\n",
      "|ECORODOVIAS INFRAESTRUTURA E LOGISTICA S/A                         |2101489404          |\n",
      "|PRUSERVICOS PARTICIPACOES LTDA.                                    |2099005250          |\n",
      "+-------------------------------------------------------------------+--------------------+\n",
      "only showing top 20 rows\n",
      "\n"
     ]
    }
   ],
   "source": [
    "df_capital.select('RAZAO_SOCIAL','CAPITAL_SOCIAL_TOTAL').show(truncate=False)"
   ]
  },
  {
   "cell_type": "code",
   "execution_count": 144,
   "metadata": {},
   "outputs": [
    {
     "name": "stdout",
     "output_type": "stream",
     "text": [
      "+----------------------------+--------+\n",
      "|FAIXA_CAPITAL_SOCIAL        |count   |\n",
      "+----------------------------+--------+\n",
      "|1. [0-1]                    |27544092|\n",
      "|2. (1-10]                   |13208526|\n",
      "|3. (10-100]                 |7498530 |\n",
      "|4. (100-1000]               |1337897 |\n",
      "|5. (1000-)                  |251373  |\n",
      "|9. Não possui capital social|1111    |\n",
      "+----------------------------+--------+\n",
      "\n"
     ]
    }
   ],
   "source": [
    "df_capital_faixa = df_capital.withColumn('FAIXA_CAPITAL_SOCIAL',\n",
    "                     f.when(f.col('CAPITAL_SOCIAL_TOTAL') > f.lit(1000000),'5. (1000-)')\n",
    "                      .when(f.col('CAPITAL_SOCIAL_TOTAL') > f.lit(100000),'4. (100-1000]') \n",
    "                      .when(f.col('CAPITAL_SOCIAL_TOTAL') > f.lit(10000),'3. (10-100]')\n",
    "                      .when(f.col('CAPITAL_SOCIAL_TOTAL') > f.lit(1000),'2. (1-10]')\n",
    "                      .when(f.col('CAPITAL_SOCIAL_TOTAL') >= f.lit(0),'1. [0-1]')\n",
    "                      .otherwise(f.lit('9. Não possui capital social'))\n",
    "                    )\n",
    "\n",
    "df_capital_faixa = df_capital_faixa\\\n",
    "            .select('FAIXA_CAPITAL_SOCIAL')\\\n",
    "            .groupby('FAIXA_CAPITAL_SOCIAL')\\\n",
    "            .count()\\\n",
    "            .sort('FAIXA_CAPITAL_SOCIAL',ascending=True)\\\n",
    "\n",
    "df_capital_faixa.select('FAIXA_CAPITAL_SOCIAL','count').show(truncate=False)"
   ]
  },
  {
   "cell_type": "markdown",
   "metadata": {},
   "source": [
    "## Estabelecimentos"
   ]
  },
  {
   "cell_type": "code",
   "execution_count": 9,
   "metadata": {},
   "outputs": [],
   "source": [
    "from pyspark.sql.types import *\n",
    "import pyspark.sql.functions as f\n",
    "from pyspark.sql.functions import col, max, min"
   ]
  },
  {
   "cell_type": "code",
   "execution_count": 10,
   "metadata": {},
   "outputs": [],
   "source": [
    "csvSchema = StructType(\n",
    "    [StructField('CNPJ_RAD',StringType(),True),\\\n",
    "     StructField('CNPJ_ORD',StringType(),True),\\\n",
    "     StructField('CNPJ_DV',StringType(),True),\\\n",
    "     StructField('ID_MATRIZ',StringType(),True),\\\n",
    "     StructField('NM_FANTASIA',StringType(),True),\\\n",
    "     StructField('SITUACAO_CAD',StringType(),True),\\\n",
    "     StructField('DT_SITUACAO_CAD',StringType(),True),\\\n",
    "     StructField('MOT_SITUACAO_CAD',StringType(),True),\\\n",
    "     StructField('NM_CIDADE_EXTERIOR',StringType(),True),\\\n",
    "     StructField('PAIS',StringType(),True),\\\n",
    "     StructField('DT_INICIO_ATV',StringType(),True),\\\n",
    "     StructField('CNAE_PRINC',StringType(),True),\\\n",
    "     StructField('CNAE_SEC',StringType(),True),\\\n",
    "     StructField('TP_LOGRADOURO',StringType(),True),\\\n",
    "     StructField('LOGADOURO',StringType(),True),\\\n",
    "     StructField('NUMERO',StringType(),True),\\\n",
    "     StructField('COMPLEMENTO',StringType(),True),\\\n",
    "     StructField('BAIRRO',StringType(),True),\\\n",
    "     StructField('CEP',StringType(),True),\\\n",
    "     StructField('UF',StringType(),True),\\\n",
    "     StructField('CD_MUNICIPIO',StringType(),True),\\\n",
    "     StructField('DDD1',StringType(),True),\\\n",
    "     StructField('FONE1',StringType(),True),\\\n",
    "     StructField('DDD2',StringType(),True),\\\n",
    "     StructField('FONE2',StringType(),True),\\\n",
    "     StructField('DDD_FAX',StringType(),True),\\\n",
    "     StructField('FAX',StringType(),True),\\\n",
    "     StructField('EMAIL',StringType(),True),\\\n",
    "     StructField('SITUACAO_ESPECIAL',StringType(),True),\\\n",
    "     StructField('DT_SITUACAO_ESPECIAL',StringType(),True)])"
   ]
  },
  {
   "cell_type": "code",
   "execution_count": 7,
   "metadata": {},
   "outputs": [],
   "source": [
    "path='C:/Users/thiago.silva/TCC/RFB_CNPJ/'"
   ]
  },
  {
   "cell_type": "code",
   "execution_count": 8,
   "metadata": {},
   "outputs": [],
   "source": [
    "csvFilesEstabelecimento = ['ESTAB_0.CSV',\\\n",
    "                           'ESTAB_1.CSV',\\\n",
    "                           'ESTAB_2.CSV',\\\n",
    "                           'ESTAB_3.CSV',\\\n",
    "                           'ESTAB_4.CSV',\\\n",
    "                           'ESTAB_5.CSV',\\\n",
    "                           'ESTAB_6.CSV',\\\n",
    "                           'ESTAB_7.CSV',\\\n",
    "                           'ESTAB_8.CSV',\\\n",
    "                           'ESTAB_9.CSV']"
   ]
  },
  {
   "cell_type": "code",
   "execution_count": null,
   "metadata": {},
   "outputs": [],
   "source": [
    "estabelecimento = spark.read.csv(path+csvFilesEstabelecimento, header=None, schema=csvSchema, sep=';', encoding='windows-1252')"
   ]
  },
  {
   "cell_type": "code",
   "execution_count": 12,
   "metadata": {},
   "outputs": [
    {
     "data": {
      "text/plain": [
       "DataFrame[CNPJ_RAD: string, CNPJ_ORD: string, CNPJ_DV: string, ID_MATRIZ: string, NM_FANTASIA: string, SITUACAO_CAD: string, DT_SITUACAO_CAD: string, MOT_SITUACAO_CAD: string, NM_CIDADE_EXTERIOR: string, PAIS: string, DT_INICIO_ATV: string, CNAE_PRINC: string, CNAE_SEC: string, TP_LOGRADOURO: string, LOGADOURO: string, NUMERO: string, COMPLEMENTO: string, BAIRRO: string, CEP: string, UF: string, CD_MUNICIPIO: string, DDD1: string, FONE1: string, DDD2: string, FONE2: string, DDD_FAX: string, FAX: string, EMAIL: string, SITUACAO_ESPECIAL: string, DT_SITUACAO_ESPECIAL: string]"
      ]
     },
     "metadata": {},
     "output_type": "display_data"
    }
   ],
   "source": [
    "display(estabelecimento)"
   ]
  },
  {
   "cell_type": "markdown",
   "metadata": {},
   "source": [
    "#### Quantidade de registros na base de Estabelecimentos"
   ]
  },
  {
   "cell_type": "code",
   "execution_count": 54,
   "metadata": {},
   "outputs": [
    {
     "data": {
      "text/plain": [
       "56520622"
      ]
     },
     "execution_count": 54,
     "metadata": {},
     "output_type": "execute_result"
    }
   ],
   "source": [
    "estabelecimento.count()"
   ]
  },
  {
   "cell_type": "markdown",
   "metadata": {},
   "source": [
    "#### Matriz/Filial"
   ]
  },
  {
   "cell_type": "code",
   "execution_count": 24,
   "metadata": {},
   "outputs": [
    {
     "name": "stdout",
     "output_type": "stream",
     "text": [
      "+-------------+--------+\n",
      "|MATRIZ_FILIAL|   count|\n",
      "+-------------+--------+\n",
      "|       MATRIZ|53671274|\n",
      "|       FILIAL| 2849348|\n",
      "+-------------+--------+\n",
      "\n"
     ]
    }
   ],
   "source": [
    "df_matriz = estabelecimento\\\n",
    "            .select('ID_MATRIZ')\\\n",
    "            .groupby('ID_MATRIZ')\\\n",
    "            .count()\\\n",
    "            .sort('count',ascending=False)\n",
    "\n",
    "df_matriz = df_matriz.withColumn('MATRIZ_FILIAL', \n",
    "                     f.when(f.col('ID_MATRIZ') == '1','MATRIZ')\n",
    "                      .when(f.col('ID_MATRIZ') == '2','FILIAL')\n",
    "                     .otherwise(f.lit('Não informado'))\n",
    "                    )\n",
    "df_matriz.drop('ID_MATRIZ')\n",
    "\n",
    "df_matriz.select('MATRIZ_FILIAL','count').show()"
   ]
  },
  {
   "cell_type": "markdown",
   "metadata": {},
   "source": [
    "#### Ano de abertura das empresas"
   ]
  },
  {
   "cell_type": "code",
   "execution_count": 13,
   "metadata": {},
   "outputs": [],
   "source": [
    "estabelecimento = estabelecimento.withColumn('ANO_ABERTURA', f.substring(f.col('DT_INICIO_ATV'), 1, 4))\n",
    "estabelecimento = estabelecimento.withColumn('ANO_ABERTURA_n', col('ANO_ABERTURA').cast(\"integer\"))"
   ]
  },
  {
   "cell_type": "code",
   "execution_count": 39,
   "metadata": {},
   "outputs": [],
   "source": [
    "df_ano_abertura = estabelecimento\\\n",
    "                  .select('ANO_ABERTURA')\\\n",
    "                  .groupby('ANO_ABERTURA')\\\n",
    "                  .count()\\\n",
    "                  .sort('count',ascending=False)"
   ]
  },
  {
   "cell_type": "code",
   "execution_count": 12,
   "metadata": {},
   "outputs": [
    {
     "name": "stdout",
     "output_type": "stream",
     "text": [
      "+------------+-------+\n",
      "|ANO_ABERTURA|  count|\n",
      "+------------+-------+\n",
      "|        2021|4136068|\n",
      "|        2020|4011782|\n",
      "|        2022|3970323|\n",
      "|        2019|3271266|\n",
      "|        2018|2762068|\n",
      "|        2016|2654049|\n",
      "|        2017|2371952|\n",
      "|        2012|2332555|\n",
      "|        2015|2127507|\n",
      "|        2014|2022592|\n",
      "|        2013|1978709|\n",
      "|        2011|1726484|\n",
      "|        2010|1544043|\n",
      "|        2023|1507961|\n",
      "|        2008|1216212|\n",
      "|        2004|1036644|\n",
      "|        2009| 872811|\n",
      "|        2006| 807948|\n",
      "|        2007| 750726|\n",
      "|        1997| 677493|\n",
      "+------------+-------+\n",
      "only showing top 20 rows\n",
      "\n"
     ]
    }
   ],
   "source": [
    "df_ano_abertura.show()"
   ]
  },
  {
   "cell_type": "code",
   "execution_count": 45,
   "metadata": {},
   "outputs": [
    {
     "name": "stdout",
     "output_type": "stream",
     "text": [
      "+------------+-----+\n",
      "|ANO_ABERTURA|count|\n",
      "+------------+-----+\n",
      "|        null|    3|\n",
      "|        1109|    1|\n",
      "|        1194|    1|\n",
      "|        1199|    1|\n",
      "|        1601|    1|\n",
      "|        1696|    1|\n",
      "|        1891|    1|\n",
      "|        1893|    1|\n",
      "|        1899|    1|\n",
      "|        1901|  161|\n",
      "|        1902|    3|\n",
      "|        1903|    8|\n",
      "|        1904|    8|\n",
      "|        1905|    4|\n",
      "|        1906|    6|\n",
      "|        1907|    4|\n",
      "|        1908|    6|\n",
      "|        1909|    4|\n",
      "|        1910|    3|\n",
      "|        1911|    4|\n",
      "|        1912|    4|\n",
      "|        1913|    3|\n",
      "|        1914|    4|\n",
      "|        1915|    7|\n",
      "|        1916|    2|\n",
      "|        1917|    5|\n",
      "|        1918|    7|\n",
      "|        1919|    4|\n",
      "|        1920|    8|\n",
      "|        1921|    6|\n",
      "|        1922|   12|\n",
      "|        1923|    2|\n",
      "|        1924|    6|\n",
      "|        1925|   10|\n",
      "|        1926|    6|\n",
      "|        1927|   10|\n",
      "|        1928|    3|\n",
      "|        1929|   18|\n",
      "|        1930|    9|\n",
      "|        1931|   15|\n",
      "|        1932|   15|\n",
      "|        1933|   19|\n",
      "|        1934|   40|\n",
      "|        1935|   10|\n",
      "|        1936|   18|\n",
      "|        1937|   19|\n",
      "|        1938|   19|\n",
      "|        1939|   29|\n",
      "|        1940|   19|\n",
      "|        1941|   34|\n",
      "+------------+-----+\n",
      "only showing top 50 rows\n",
      "\n"
     ]
    }
   ],
   "source": [
    "df_ano_abertura.sort('ANO_ABERTURA',ascending=True).show(50)"
   ]
  },
  {
   "cell_type": "code",
   "execution_count": 26,
   "metadata": {},
   "outputs": [],
   "source": [
    "# Supondo que o seu DataFrame seja chamado de 'df' e a coluna de string seja chamada 'coluna_string'\n",
    "df_ano_abertura2 = df_ano_abertura.withColumn('ANO_ABERTURA_N', col('ANO_ABERTURA').cast(\"integer\"))"
   ]
  },
  {
   "cell_type": "code",
   "execution_count": 27,
   "metadata": {},
   "outputs": [
    {
     "name": "stdout",
     "output_type": "stream",
     "text": [
      "Valor máximo: 9420\n",
      "Valor mínimo: 1109\n"
     ]
    }
   ],
   "source": [
    "# Supondo que o seu DataFrame seja chamado de 'df' e a coluna convertida seja 'coluna_inteiro'\n",
    "valor_maximo = df_ano_abertura2.select(max('ANO_ABERTURA_N')).first()[0]\n",
    "valor_minimo = df_ano_abertura2.select(min('ANO_ABERTURA_N')).first()[0]\n",
    "\n",
    "print(\"Valor máximo:\", valor_maximo)\n",
    "print(\"Valor mínimo:\", valor_minimo)"
   ]
  },
  {
   "cell_type": "code",
   "execution_count": 29,
   "metadata": {},
   "outputs": [
    {
     "name": "stdout",
     "output_type": "stream",
     "text": [
      "+-------+------------------+\n",
      "|summary|    ANO_ABERTURA_N|\n",
      "+-------+------------------+\n",
      "|  count|               139|\n",
      "|   mean|2137.4964028776976|\n",
      "| stddev| 902.7985344624495|\n",
      "|    min|              1109|\n",
      "|    max|              9420|\n",
      "+-------+------------------+\n",
      "\n"
     ]
    }
   ],
   "source": [
    "estatisticas_descritivas = df_ano_abertura2.describe('ANO_ABERTURA_N')\n",
    "estatisticas_descritivas.show()"
   ]
  },
  {
   "cell_type": "markdown",
   "metadata": {},
   "source": [
    "**Situação cadastral**"
   ]
  },
  {
   "cell_type": "code",
   "execution_count": 14,
   "metadata": {},
   "outputs": [],
   "source": [
    "estabelecimento = estabelecimento.withColumn('ANO_SIT_CADASTRAL', f.substring(f.col('DT_SITUACAO_CAD'), 1, 4))\n",
    "estabelecimento = estabelecimento.withColumn('ANO_SIT_CADASTRAL_N', col('ANO_SIT_CADASTRAL').cast(\"integer\"))"
   ]
  },
  {
   "cell_type": "code",
   "execution_count": 30,
   "metadata": {},
   "outputs": [
    {
     "name": "stdout",
     "output_type": "stream",
     "text": [
      "+-------+-------------------+\n",
      "|summary|ANO_SIT_CADASTRAL_N|\n",
      "+-------+-------------------+\n",
      "|  count|           56520622|\n",
      "|   mean|  2010.071795388239|\n",
      "| stddev| 102.79639970566382|\n",
      "|    min|                  0|\n",
      "|    max|               2023|\n",
      "+-------+-------------------+\n",
      "\n"
     ]
    }
   ],
   "source": [
    "# Analisando a data da situação cadastral\n",
    "estatisticas_descritivas2 = estabelecimento.describe('ANO_SIT_CADASTRAL_N')\n",
    "estatisticas_descritivas2.show()"
   ]
  },
  {
   "cell_type": "markdown",
   "metadata": {},
   "source": [
    "**Período de funcionamento do estabelecimento**"
   ]
  },
  {
   "cell_type": "code",
   "execution_count": 15,
   "metadata": {},
   "outputs": [],
   "source": [
    "estabelecimento = estabelecimento.withColumn('TEMPO_FUNCIONAMENTO', f.col('ANO_SIT_CADASTRAL')-f.col('ANO_ABERTURA_N'))"
   ]
  },
  {
   "cell_type": "code",
   "execution_count": 19,
   "metadata": {},
   "outputs": [
    {
     "name": "stdout",
     "output_type": "stream",
     "text": [
      "+-------+-------------------+\n",
      "|summary|TEMPO_FUNCIONAMENTO|\n",
      "+-------+-------------------+\n",
      "|  count|           56520619|\n",
      "|   mean| 0.7809523812893839|\n",
      "| stddev| 102.58931731143124|\n",
      "|    min|            -9420.0|\n",
      "|    max|              909.0|\n",
      "+-------+-------------------+\n",
      "\n"
     ]
    }
   ],
   "source": [
    "# Analisando o tempo de funcionamento\n",
    "estatisticas_descritivas3 = estabelecimento.describe('TEMPO_FUNCIONAMENTO')\n",
    "estatisticas_descritivas3.show()"
   ]
  },
  {
   "cell_type": "code",
   "execution_count": 16,
   "metadata": {},
   "outputs": [
    {
     "name": "stdout",
     "output_type": "stream",
     "text": [
      "+--------+--------+-------+---------+--------------------+------------+---------------+----------------+------------------+----+-------------+----------+--------------------+-------------+--------------------+------+--------------------+--------------------+--------+---+------------+----+--------+----+--------+-------+--------+--------------------+-----------------+--------------------+------------+--------------+-----------------+-------------------+-------------------+\n",
      "|CNPJ_RAD|CNPJ_ORD|CNPJ_DV|ID_MATRIZ|         NM_FANTASIA|SITUACAO_CAD|DT_SITUACAO_CAD|MOT_SITUACAO_CAD|NM_CIDADE_EXTERIOR|PAIS|DT_INICIO_ATV|CNAE_PRINC|            CNAE_SEC|TP_LOGRADOURO|           LOGADOURO|NUMERO|         COMPLEMENTO|              BAIRRO|     CEP| UF|CD_MUNICIPIO|DDD1|   FONE1|DDD2|   FONE2|DDD_FAX|     FAX|               EMAIL|SITUACAO_ESPECIAL|DT_SITUACAO_ESPECIAL|ANO_ABERTURA|ANO_ABERTURA_n|ANO_SIT_CADASTRAL|ANO_SIT_CADASTRAL_N|TEMPO_FUNCIONAMENTO|\n",
      "+--------+--------+-------+---------+--------------------+------------+---------------+----------------+------------------+----+-------------+----------+--------------------+-------------+--------------------+------+--------------------+--------------------+--------+---+------------+----+--------+----+--------+-------+--------+--------------------+-----------------+--------------------+------------+--------------+-----------------+-------------------+-------------------+\n",
      "|08242879|    0001|     90|        1|COMUNIDADE EVANGE...|          02|       20220628|              00|              null|null|     19720707|   9491000|                null|         VILA|    LINHA KRONENTHAL|    SN|                null|            INTERIOR|99495000| RS|        5951|  54|33921006|  54|91069845|     54|33921006|                null|             null|                null|        1972|          1972|             2022|               2022|               50.0|\n",
      "|23392118|    0001|     08|        1|         BUON SABORE|          04|       20180928|              63|              null|null|     19950111|   4781400|                null|          RUA|       JACINTO GODOY|   809|      XXXXXXXXXXX...|      JOSE BONIFACIO|99701510| RS|        8637|  54|99454529|  54|99052464|     00| 0000000|SUZANADESIGN@GMAI...|             null|                null|        1995|          1995|             2018|               2018|               23.0|\n",
      "|08145242|    0001|     85|        1|              ASACTR|          03|       20140425|              21|              null|null|     19881104|   9430800|     9493600,9499500|          RUA|                DOZE|    04|                null|              CENTRO|75720000| GO|        9623|  64|34751268|null|    null|   null|    null|                null|             null|                null|        1988|          1988|             2014|               2014|               26.0|\n",
      "|10157798|    0001|     33|        1|                PSDB|          02|       20190219|              00|              null|null|     19890717|   9492800|                null|          RUA| WILSON PIRES GAVIAO|   437|                null|              CENTRO|97645000| RS|        0994|  55|98424769|null|    null|   null|    null|MARLEYCARPES@HOTM...|             null|                null|        1989|          1989|             2019|               2019|               30.0|\n",
      "|09229396|    0001|     18|        1|      HK CORPORATION|          02|              0|              00|              null|null|     20071130|   2063100|             2062200|          RUA|   DOUTOR PENA FIRME|    28|                null|       JARDIM IGUACU|26282240| RJ|        5869|  21|26576624|null|    null|     21|27560228|                null|             null|                null|        2007|          2007|                0|                  0|            -2007.0|\n",
      "|21556191|    0001|     42|        1|CLUBE DE BOCHAS D...|          04|       20181016|              63|              null|null|     19820326|   9312300|                null|          RUA|        SAO PROCOPIO|   297|                null|     VILA CALIFORNIA|03212020| SP|        7107|  11|20687918|  11|29144157|     11|29144157|PEREIRACONT@TERRA...|             null|                null|        1982|          1982|             2018|               2018|               36.0|\n",
      "|19773533|    0001|     34|        1|GRUPO ART BRASIL ...|          02|       20210729|              00|              null|null|     19970627|   9493600|9430800,9499500,9...|          RUA|                1015|  1157|QUADRA130        ...|  SET PEDRO LUDOVICO|74820285| GO|        9373|  62|84313014|null|    null|     62|85813564|ARTBRASIL.MESTREM...|             null|                null|        1997|          1997|             2021|               2021|               24.0|\n",
      "|09180556|    0001|     81|        1|FUNDO MUNICIPAL D...|          02|       20190122|              00|              null|null|     19950929|   8730199|             8800600|      AVENIDA|     PRINCEZA IZABEL|   S/N|                null|              CENTRO|87230000| PR|        7653|  44|36281301|  44|36281212|     44|36281212|pmjussara@terra.c...|             null|                null|        1995|          1995|             2019|               2019|               24.0|\n",
      "|23553770|    0001|     67|        1|TERREIRO DE UMBAN...|          02|       20210913|              00|              null|null|     19860520|   9491000|                null|     SERVIDAO|           CAMPOLINA|   118|                null|           BOM VIVER|88160001| SC|        8045|  48|32960313|null|    null|   null|    null| lena28@ibest.com.br|             null|                null|        1986|          1986|             2021|               2021|               35.0|\n",
      "|08253603|    0001|     07|        1|                IPAI|          04|       20220607|              63|              null|null|     19970313|   8520100|             8513900|      AVENIDA|      TANCREDO NEVES|   118|ANDAR: 1 ; CXPST:...|              CENTRO|68639000| PA|        0627|  94|37791529|  94|37790254|     94|33791529|QUARESMACONTABILI...|             null|                null|        1997|          1997|             2022|               2022|               25.0|\n",
      "|09341094|    0001|     37|        1|COOMSERV - COOP M...|          04|       20190130|              63|              null|null|     19960408|   9499500|             9430800|          RUA|         JOAO PESSOA| 162 A|                null|              CENTRO|55835970| PE|        2387|  81|91039100|  81|91039100|   null|    null|JANFERTEX@YAHOO.C...|             null|                null|        1996|          1996|             2019|               2019|               23.0|\n",
      "|12275722|    0001|     38|        1|    LIDIA CONFECCOES|          08|       20201019|              01|              null|null|     19941118|   1412601|                null|          RUA|         JOSE ANDERE|   440|                null|    JD MARIA CECILIA|08500010| SP|        6415|  11|46757074|null|    null|   null|    null|CONTABILRAYNIFE@H...|             null|                null|        1994|          1994|             2020|               2020|               26.0|\n",
      "|10144989|    0001|     60|        1|CYVAL O MAXIMO DE...|          04|       20210203|              63|              null|null|     19970711|   4752100|4321500,4759899,8...|      AVENIDA|APARECIDA INES CH...|  1-83|                null|NUCLEO EDISON BAS...|17022490| SP|        6219|  14|32084423|  14|32084417|     14|32270942|zilda@masterescri...|             null|                null|        1997|          1997|             2021|               2021|               24.0|\n",
      "|11171218|    0001|     25|        1|IGREJA EVANGELICA...|          04|       20210326|              63|              null|null|     19950221|   9491000|                null|          RUA|                DOIS|   213|                null|JARDIM NOVO HORIZ...|08593270| SP|        6563|  11|47473518|null|    null|   null|    null|                null|             null|                null|        1995|          1995|             2021|               2021|               26.0|\n",
      "|87548814|    0007|     39|        2| FILIAL 02 - VITORIA|          08|       20160331|              31|              null|null|     19740409|   3101200|             3102100|          RUA|             VITORIA|   S/N|                null|            BOTAFOGO|95700010| RS|        8541|  54|21028100|  54|21028297|     54|21028101|CONTABILIDADE@TOD...|             null|                null|        1974|          1974|             2016|               2016|               42.0|\n",
      "|14931986|    0001|     28|        1|         COLONIAPREV|          02|       20200207|              00|              null|null|     19970905|   8430200|                null|          RUA|      15 DE NOVEMBRO|    43|                CASA|              CENTRO|57975000| AL|        2741|  82|32551145|  82|99143061|     82|32551145|                null|             null|                null|        1997|          1997|             2020|               2020|               23.0|\n",
      "|14951139|    0001|     25|        1|                null|          04|       20181004|              63|              null|null|     19890821|   4669999|4689399,4649401,4...|        PRACA|         OLAVO BILAC|    95|            SALA  34|      CAMPOS ELISEOS|01201050| SP|        7107|  11|39991643|  11|39991643|     11|39991643|    xeruca@ig.com.br|             null|                null|        1989|          1989|             2018|               2018|               29.0|\n",
      "|06691299|    0001|     54|        1|                null|          08|       20160818|              01|              null|null|     19771201|   1412602|             1411801|          RUA|       LEONIDAS MELO|   S/N|                null|              CENTRO|64100000| PI|        1023|  86|99956165|null|    null|   null|    null|                null|             null|                null|        1977|          1977|             2016|               2016|               39.0|\n",
      "|87171641|    0001|     97|        1|FRATERNIDADE UBIR...|          04|       20181030|              63|              null|null|     19550912|   9491000|                null|          RUA|    BARO DO AMAZONAS|  2035|                null|            PARTENIN|90660001| RS|        8801|  51|39073644|null|    null|   null|    null|                null|             null|                null|        1955|          1955|             2018|               2018|               63.0|\n",
      "|08305809|    0001|     33|        1|   AUDIO INFINIT CAR|          04|       20180906|              63|              null|null|     19730313|   4530703|                null|          RUA|        URBANO LOPES|    87|                LOJA|         JD.BOTANICO|80050520| PR|        7535|  41|30238878|null|    null|   null|    null|                null|             null|                null|        1973|          1973|             2018|               2018|               45.0|\n",
      "+--------+--------+-------+---------+--------------------+------------+---------------+----------------+------------------+----+-------------+----------+--------------------+-------------+--------------------+------+--------------------+--------------------+--------+---+------------+----+--------+----+--------+-------+--------+--------------------+-----------------+--------------------+------------+--------------+-----------------+-------------------+-------------------+\n",
      "only showing top 20 rows\n",
      "\n"
     ]
    }
   ],
   "source": [
    "# Calcule o primeiro e o terceiro quartil para uma coluna específica\n",
    "coluna = 'TEMPO_FUNCIONAMENTO'\n",
    "quantiles = estabelecimento.approxQuantile(coluna, [0.25, 0.75], 0.05)\n",
    "q1 = quantiles[0]\n",
    "q3 = quantiles[1]\n",
    "\n",
    "# Calcule o intervalo interquartil (IQR)\n",
    "iqr = q3 - q1\n",
    "\n",
    "# Calcule os limites superior e inferior usando o IQR\n",
    "limite_superior = q3 + (1.5 * iqr)\n",
    "limite_inferior = q1 - (1.5 * iqr)\n",
    "\n",
    "# Use os limites para filtrar os outliers\n",
    "df_outliers = estabelecimento.filter((col(coluna) > limite_superior) | (col(coluna) < limite_inferior))\n",
    "\n",
    "# Exiba os outliers\n",
    "df_outliers.show()"
   ]
  },
  {
   "cell_type": "code",
   "execution_count": 18,
   "metadata": {},
   "outputs": [
    {
     "data": {
      "text/plain": [
       "4313367"
      ]
     },
     "execution_count": 18,
     "metadata": {},
     "output_type": "execute_result"
    }
   ],
   "source": [
    "df_outliers.count()"
   ]
  },
  {
   "cell_type": "code",
   "execution_count": 20,
   "metadata": {},
   "outputs": [
    {
     "name": "stdout",
     "output_type": "stream",
     "text": [
      "+-------+-------------------+\n",
      "|summary|TEMPO_FUNCIONAMENTO|\n",
      "+-------+-------------------+\n",
      "|  count|            4313367|\n",
      "|   mean| -39.48778575994113|\n",
      "| stddev|  368.4341498632619|\n",
      "|    min|            -9420.0|\n",
      "|    max|              909.0|\n",
      "+-------+-------------------+\n",
      "\n"
     ]
    }
   ],
   "source": [
    "# Analisando o tempo de funcionamento\n",
    "estatisticas_descritivas4 = df_outliers.describe('TEMPO_FUNCIONAMENTO')\n",
    "estatisticas_descritivas4.show()"
   ]
  },
  {
   "cell_type": "code",
   "execution_count": 30,
   "metadata": {},
   "outputs": [],
   "source": [
    "select_columns = ['DT_INICIO_ATV',\n",
    "                  'DT_SITUACAO_CAD',\n",
    "                  'ANO_ABERTURA_n',\n",
    "                  'ANO_SIT_CADASTRAL_N',\n",
    "                  'TEMPO_FUNCIONAMENTO']\n",
    "\n",
    "df_validation = estabelecimento.select(*select_columns)"
   ]
  },
  {
   "cell_type": "code",
   "execution_count": 36,
   "metadata": {},
   "outputs": [
    {
     "name": "stdout",
     "output_type": "stream",
     "text": [
      "+-------------+---------------+--------------+-------------------+-------------------+\n",
      "|DT_INICIO_ATV|DT_SITUACAO_CAD|ANO_ABERTURA_n|ANO_SIT_CADASTRAL_N|TEMPO_FUNCIONAMENTO|\n",
      "+-------------+---------------+--------------+-------------------+-------------------+\n",
      "|         null|             08|          null|                  8|               null|\n",
      "|         null|             08|          null|                  8|               null|\n",
      "|         null|             08|          null|                  8|               null|\n",
      "|      9420100|             00|          9420|                  0|            -9420.0|\n",
      "|      5620104|             63|          5620|                 63|            -5557.0|\n",
      "|      4930204|             01|          4930|                  1|            -4929.0|\n",
      "|      4755503|             01|          4755|                  1|            -4754.0|\n",
      "|      4771701|             21|          4771|                 21|            -4750.0|\n",
      "|      4744001|             63|          4744|                 63|            -4681.0|\n",
      "|      4665600|             00|          4665|                  0|            -4665.0|\n",
      "|      4399103|             63|          4399|                 63|            -4336.0|\n",
      "|     20180823|              0|          2018|                  0|            -2018.0|\n",
      "|     20180322|              0|          2018|                  0|            -2018.0|\n",
      "|     20160520|              0|          2016|                  0|            -2016.0|\n",
      "|     20151119|              0|          2015|                  0|            -2015.0|\n",
      "|     20130322|              0|          2013|                  0|            -2013.0|\n",
      "|     20120718|              0|          2012|                  0|            -2012.0|\n",
      "|     20110419|              0|          2011|                  0|            -2011.0|\n",
      "|     20110603|              0|          2011|                  0|            -2011.0|\n",
      "|     20110223|              0|          2011|                  0|            -2011.0|\n",
      "+-------------+---------------+--------------+-------------------+-------------------+\n",
      "only showing top 20 rows\n",
      "\n"
     ]
    }
   ],
   "source": [
    "df_validation.select(*select_columns).sort('TEMPO_FUNCIONAMENTO', asc=False).show()"
   ]
  },
  {
   "cell_type": "code",
   "execution_count": 38,
   "metadata": {},
   "outputs": [
    {
     "name": "stdout",
     "output_type": "stream",
     "text": [
      "+-------------+---------------+--------------+-------------------+-------------------+\n",
      "|DT_INICIO_ATV|DT_SITUACAO_CAD|ANO_ABERTURA_n|ANO_SIT_CADASTRAL_N|TEMPO_FUNCIONAMENTO|\n",
      "+-------------+---------------+--------------+-------------------+-------------------+\n",
      "|         null|             08|          null|                  8|               null|\n",
      "|         null|             08|          null|                  8|               null|\n",
      "|         null|             08|          null|                  8|               null|\n",
      "|     11090810|       20181011|          1109|               2018|              909.0|\n",
      "|     11940815|       20151229|          1194|               2015|              821.0|\n",
      "|     11990622|       20051103|          1199|               2005|              806.0|\n",
      "|     16010101|       16010101|          1601|               1601|                0.0|\n",
      "|     16960719|       20040423|          1696|               2004|              308.0|\n",
      "|     18911023|       20051103|          1891|               2005|              114.0|\n",
      "|     18930705|       20051103|          1893|               2005|              112.0|\n",
      "|     18990419|       20051103|          1899|               2005|              106.0|\n",
      "|     19010101|       19010101|          1901|               1901|                0.0|\n",
      "|     19010101|       19010101|          1901|               1901|                0.0|\n",
      "|     19010101|       19010101|          1901|               1901|                0.0|\n",
      "|     19010101|       19010101|          1901|               1901|                0.0|\n",
      "|     19010101|       19010101|          1901|               1901|                0.0|\n",
      "|     19010101|       19010101|          1901|               1901|                0.0|\n",
      "|     19010101|       19010101|          1901|               1901|                0.0|\n",
      "|     19010101|       19010101|          1901|               1901|                0.0|\n",
      "|     19010101|       20040814|          1901|               2004|              103.0|\n",
      "|     19010101|       19010101|          1901|               1901|                0.0|\n",
      "|     19010101|       19010101|          1901|               1901|                0.0|\n",
      "|     19010101|       19010101|          1901|               1901|                0.0|\n",
      "|     19010101|       19010101|          1901|               1901|                0.0|\n",
      "|     19010101|       19010101|          1901|               1901|                0.0|\n",
      "|     19010101|       19010101|          1901|               1901|                0.0|\n",
      "|     19010101|       19010101|          1901|               1901|                0.0|\n",
      "|     19010101|       19010101|          1901|               1901|                0.0|\n",
      "|     19010101|       19010101|          1901|               1901|                0.0|\n",
      "|     19010101|       19010101|          1901|               1901|                0.0|\n",
      "|     19010101|       19010101|          1901|               1901|                0.0|\n",
      "|     19010101|       19010101|          1901|               1901|                0.0|\n",
      "|     19010101|       19010101|          1901|               1901|                0.0|\n",
      "|     19010101|       19010101|          1901|               1901|                0.0|\n",
      "|     19010101|       19010101|          1901|               1901|                0.0|\n",
      "|     19010101|       19010101|          1901|               1901|                0.0|\n",
      "|     19010101|       19010101|          1901|               1901|                0.0|\n",
      "|     19010101|       19010101|          1901|               1901|                0.0|\n",
      "|     19010101|       19010101|          1901|               1901|                0.0|\n",
      "|     19010101|       20051103|          1901|               2005|              104.0|\n",
      "|     19010101|              0|          1901|                  0|            -1901.0|\n",
      "|     19010101|       19010101|          1901|               1901|                0.0|\n",
      "|     19010101|       19010101|          1901|               1901|                0.0|\n",
      "|     19010101|       19010101|          1901|               1901|                0.0|\n",
      "|     19010101|       19010101|          1901|               1901|                0.0|\n",
      "|     19010101|       19010101|          1901|               1901|                0.0|\n",
      "|     19010101|       19010101|          1901|               1901|                0.0|\n",
      "|     19010101|       20051103|          1901|               2005|              104.0|\n",
      "|     19010101|       19010101|          1901|               1901|                0.0|\n",
      "|     19010101|       20220920|          1901|               2022|              121.0|\n",
      "+-------------+---------------+--------------+-------------------+-------------------+\n",
      "only showing top 50 rows\n",
      "\n"
     ]
    }
   ],
   "source": [
    "df_validation.select(*select_columns).sort('DT_INICIO_ATV', asc=False).show(50)"
   ]
  },
  {
   "cell_type": "code",
   "execution_count": 53,
   "metadata": {},
   "outputs": [
    {
     "name": "stdout",
     "output_type": "stream",
     "text": [
      "+--------+--------+-------+---------+--------------------+------------+---------------+----------------+------------------+----+-------------+----------+--------+-------------+--------------------+------+-----------+-------+--------+---+------------+----+--------+----+--------+-------+--------+--------------------+-----------------+--------------------+------------+--------------+-----------------+-------------------+-------------------+\n",
      "|CNPJ_RAD|CNPJ_ORD|CNPJ_DV|ID_MATRIZ|         NM_FANTASIA|SITUACAO_CAD|DT_SITUACAO_CAD|MOT_SITUACAO_CAD|NM_CIDADE_EXTERIOR|PAIS|DT_INICIO_ATV|CNAE_PRINC|CNAE_SEC|TP_LOGRADOURO|           LOGADOURO|NUMERO|COMPLEMENTO| BAIRRO|     CEP| UF|CD_MUNICIPIO|DDD1|   FONE1|DDD2|   FONE2|DDD_FAX|     FAX|               EMAIL|SITUACAO_ESPECIAL|DT_SITUACAO_ESPECIAL|ANO_ABERTURA|ANO_ABERTURA_n|ANO_SIT_CADASTRAL|ANO_SIT_CADASTRAL_N|TEMPO_FUNCIONAMENTO|\n",
      "+--------+--------+-------+---------+--------------------+------------+---------------+----------------+------------------+----+-------------+----------+--------+-------------+--------------------+------+-----------+-------+--------+---+------------+----+--------+----+--------+-------+--------+--------------------+-----------------+--------------------+------------+--------------+-----------------+-------------------+-------------------+\n",
      "|29987225|    0001|     65|        1|                null|          02|       19031211|              00|              null|null|     19031211|   8411600|    null|      AVENIDA|MONSENHOR SCALABRINI|   600|       null| CENTRO|99200000| RS|        8687|  54|34435911|null|    null|   null|    null|                null|             null|                null|        1903|          1903|             1903|               1903|                0.0|\n",
      "|04119077|    0001|     36|        1|    EMBAIXADA DO IRA|          02|       19030101|              00|              null| 372|     19030101|   9900800|    null|         null|SES AVENIDA DAS N...|LT. 31|       null|ASA SUL|70421900| DF|        9701|  61| 2425733|null|    null|     61| 2449640|embiran@linkexpre...|             null|                null|        1903|          1903|             1903|               1903|                0.0|\n",
      "|09224913|    0001|     66|        1|                null|          02|       19031009|              00|              null|null|     19031009|   6912500|    null|          RUA| LUIS TEIXEIRA COSTA|    91|    LOJA  A| CENTRO|57770000| AL|        2725|  82|32841888|  82|99977681|     82|32841888|REGISTROCIVILCAJU...|             null|                null|        1903|          1903|             1903|               1903|                0.0|\n",
      "|04603879|    0001|     17|        1|CONSULADO DA ARGE...|          02|       19030301|              00|              null| 063|     19030301|   9900800|    null|     TRAVESSA|VICE CONSUL EDUAR...|    26|       null| CENTRO|85851270| PR|        7563|  45| 5742969|null|    null|     45| 5742877|                null|             null|                null|        1903|          1903|             1903|               1903|                0.0|\n",
      "|05305929|    0001|     42|        1|                null|          02|       19031130|              00|              null|null|     19031130|   6912500|    null|          RUA|MARECHAL DEODORO ...|    99|       null| CENTRO|14730000| SP|        6731|  17|33614198|  17|33612504|     17|33615730|RCIVILMAP@HOTMAIL...|             null|                null|        1903|          1903|             1903|               1903|                0.0|\n",
      "+--------+--------+-------+---------+--------------------+------------+---------------+----------------+------------------+----+-------------+----------+--------+-------------+--------------------+------+-----------+-------+--------+---+------------+----+--------+----+--------+-------+--------+--------------------+-----------------+--------------------+------------+--------------+-----------------+-------------------+-------------------+\n",
      "\n"
     ]
    }
   ],
   "source": [
    "estabelecimento.filter(f.col('ANO_SIT_CADASTRAL')=='1903').show(50)"
   ]
  },
  {
   "cell_type": "markdown",
   "metadata": {},
   "source": [
    "#### Atividade principal"
   ]
  },
  {
   "cell_type": "code",
   "execution_count": 16,
   "metadata": {},
   "outputs": [],
   "source": [
    "estabelecimento = estabelecimento.withColumn('CD_CNAE20_DIVISAO', f.substring(f.col('CNAE_PRINC'), 1, 2))"
   ]
  },
  {
   "cell_type": "code",
   "execution_count": 15,
   "metadata": {},
   "outputs": [],
   "source": [
    "df_atividade = estabelecimento\\\n",
    "                  .select('CD_CNAE20_DIVISAO')\\\n",
    "                  .groupby('CD_CNAE20_DIVISAO')\\\n",
    "                  .count()\\\n",
    "                  .sort('count',ascending=False)"
   ]
  },
  {
   "cell_type": "code",
   "execution_count": 17,
   "metadata": {},
   "outputs": [
    {
     "name": "stdout",
     "output_type": "stream",
     "text": [
      "+---------------+--------------------+-----------------+--------------------+\n",
      "|CD_SECAO_CNAE20|   DESC_SECAO_CNAE20|CD_CNAE20_DIVISAO| DESC_CNAE20_DIVISAO|\n",
      "+---------------+--------------------+-----------------+--------------------+\n",
      "|              A|AGRICULTURA, PECU...|               01|AGRICULTURA, PECU...|\n",
      "|              A|AGRICULTURA, PECU...|               02|  PRODUÇÃO FLORESTAL|\n",
      "|              A|AGRICULTURA, PECU...|               03| PESCA E AQÜICULTURA|\n",
      "|              B|INDÚSTRIAS EXTRAT...|               05|EXTRAÇÃO DE CARVÃ...|\n",
      "|              B|INDÚSTRIAS EXTRAT...|               06|EXTRAÇÃO DE PETRÓ...|\n",
      "|              B|INDÚSTRIAS EXTRAT...|               07|EXTRAÇÃO DE MINER...|\n",
      "|              B|INDÚSTRIAS EXTRAT...|               08|EXTRAÇÃO DE MINER...|\n",
      "|              B|INDÚSTRIAS EXTRAT...|               09|ATIVIDADES DE APO...|\n",
      "|              C|INDÚSTRIAS DE TRA...|               10|FABRICAÇÃO DE PRO...|\n",
      "|              C|INDÚSTRIAS DE TRA...|               11|FABRICAÇÃO DE BEB...|\n",
      "|              C|INDÚSTRIAS DE TRA...|               12|FABRICAÇÃO DE PRO...|\n",
      "|              C|INDÚSTRIAS DE TRA...|               13|FABRICAÇÃO DE PRO...|\n",
      "|              C|INDÚSTRIAS DE TRA...|               14|CONFECÇÃO DE ARTI...|\n",
      "|              C|INDÚSTRIAS DE TRA...|               15|PREPARAÇÃO DE COU...|\n",
      "|              C|INDÚSTRIAS DE TRA...|               16|FABRICAÇÃO DE PRO...|\n",
      "|              C|INDÚSTRIAS DE TRA...|               17|FABRICAÇÃO DE CEL...|\n",
      "|              C|INDÚSTRIAS DE TRA...|               18|IMPRESSÃO E REPRO...|\n",
      "|              C|INDÚSTRIAS DE TRA...|               19|FABRICAÇÃO DE COQ...|\n",
      "|              C|INDÚSTRIAS DE TRA...|               20|FABRICAÇÃO DE PRO...|\n",
      "|              C|INDÚSTRIAS DE TRA...|               21|FABRICAÇÃO DE PRO...|\n",
      "+---------------+--------------------+-----------------+--------------------+\n",
      "only showing top 20 rows\n",
      "\n"
     ]
    }
   ],
   "source": [
    "desc_div = spark.read.csv('DESC_DIVISAO_CNAE.csv', header=True, sep=';')\n",
    "desc_div.show()"
   ]
  },
  {
   "cell_type": "code",
   "execution_count": 17,
   "metadata": {},
   "outputs": [],
   "source": [
    "df_atividade = df_atividade.join(desc_div,['CD_CNAE20_DIVISAO'],'left')"
   ]
  },
  {
   "cell_type": "code",
   "execution_count": null,
   "metadata": {},
   "outputs": [],
   "source": [
    "df_atividade = df_atividade.drop('CD_SECAO_CNAE20','DESC_SECAO_CNAE20','CD_CNAE20_DIVISAO')"
   ]
  },
  {
   "cell_type": "code",
   "execution_count": 28,
   "metadata": {},
   "outputs": [
    {
     "name": "stdout",
     "output_type": "stream",
     "text": [
      "+--------------------+-------+\n",
      "| DESC_CNAE20_DIVISAO|  count|\n",
      "+--------------------+-------+\n",
      "|EXTRAÇÃO DE MINER...|   9857|\n",
      "|    TRANSPORTE AÉREO|   5905|\n",
      "|PREPARAÇÃO DE COU...| 143313|\n",
      "|FABRICAÇÃO DE BEB...|  22718|\n",
      "|ATIVIDADES JURÍDI...| 374208|\n",
      "|FABRICAÇÃO DE VEÍ...|  31494|\n",
      "|OBRAS DE INFRA-ES...| 107157|\n",
      "|PUBLICIDADE E PES...|1371254|\n",
      "|ATIVIDADES DE ATE...| 303301|\n",
      "|ATIVIDADES DE SER...| 432814|\n",
      "|FABRICAÇÃO DE OUT...|   7607|\n",
      "|ATIVIDADES CINEMA...| 180726|\n",
      "|AGRICULTURA, PECU...|1029183|\n",
      "|FABRICAÇÃO DE MÁQ...|  51086|\n",
      "|FABRICAÇÃO DE PRO...|  79861|\n",
      "|            EDUCAÇÃO|1499642|\n",
      "|ARMAZENAMENTO E A...| 533360|\n",
      "|FABRICAÇÃO DE PRO...| 171472|\n",
      "|ELETRICIDADE, GÁS...|  29437|\n",
      "|SERVIÇOS DE ARQUI...| 299471|\n",
      "+--------------------+-------+\n",
      "only showing top 20 rows\n",
      "\n"
     ]
    }
   ],
   "source": [
    "df_atividade.select('DESC_CNAE20_DIVISAO','count').show()"
   ]
  },
  {
   "cell_type": "markdown",
   "metadata": {},
   "source": [
    "## Sócios"
   ]
  },
  {
   "cell_type": "code",
   "execution_count": 13,
   "metadata": {},
   "outputs": [],
   "source": [
    "csvSchema = StructType(\n",
    "    [StructField('CNPJ_RAD',StringType(),True),\\\n",
    "     StructField('ID_SOCIO',StringType(),True),\\\n",
    "     StructField('NM_SOCIO',StringType(),True),\\\n",
    "     StructField('DOC_SOCIO',StringType(),True),\\\n",
    "     StructField('QUALIFIC_SOCIO',StringType(),True),\\\n",
    "     StructField('DT_ENT_SOCIEDADE',StringType(),True),\\\n",
    "     StructField('PAIS_SOCIO_ESTRANGEIRO',StringType(),True),\\\n",
    "     StructField('CPF_REPRESENTANTE',StringType(),True),\\\n",
    "     StructField('NM_REPRESENTANTE',StringType(),True),\\\n",
    "     StructField('QUALIFIC_REPRESENTANTE',StringType(),True),\\\n",
    "     StructField('FAIXA_ETARIA',StringType(),True)])"
   ]
  },
  {
   "cell_type": "code",
   "execution_count": 14,
   "metadata": {},
   "outputs": [],
   "source": [
    "csvFilesSocio = ['RFB_CNPJ_SOCIO_0.CSV',\\\n",
    "                 'RFB_CNPJ_SOCIO_1.CSV',\\\n",
    "                 'RFB_CNPJ_SOCIO_2.CSV',\\\n",
    "                 'RFB_CNPJ_SOCIO_3.CSV',\\\n",
    "                 'RFB_CNPJ_SOCIO_4.CSV',\\\n",
    "                 'RFB_CNPJ_SOCIO_5.CSV',\\\n",
    "                 'RFB_CNPJ_SOCIO_6.CSV',\\\n",
    "                 'RFB_CNPJ_SOCIO_7.CSV',\\\n",
    "                 'RFB_CNPJ_SOCIO_8.CSV',\\\n",
    "                 'RFB_CNPJ_SOCIO_9.CSV']"
   ]
  },
  {
   "cell_type": "code",
   "execution_count": 15,
   "metadata": {},
   "outputs": [],
   "source": [
    "socio = spark.read.csv(csvFilesSocio, header=None, schema=csvSchema, sep=';', encoding='windows-1252')"
   ]
  },
  {
   "cell_type": "code",
   "execution_count": 20,
   "metadata": {},
   "outputs": [
    {
     "data": {
      "text/html": [
       "<table border='1'>\n",
       "<tr><th>CNPJ_RAD</th><th>ID_SOCIO</th><th>NM_SOCIO</th><th>DOC_SOCIO</th><th>QUALIFIC_SOCIO</th><th>DT_ENT_SOCIEDADE</th><th>PAIS_SOCIO_ESTRANGEIRO</th><th>CPF_REPRESENTANTE</th><th>NM_REPRESENTANTE</th><th>QUALIFIC_REPRESENTANTE</th><th>FAIXA_ETARIA</th></tr>\n",
       "<tr><td>02954739</td><td>2</td><td>LIDIANE BORGES PI...</td><td>***852188**</td><td>49</td><td>19990129</td><td>null</td><td>***000000**</td><td>null</td><td>00</td><td>5</td></tr>\n",
       "<tr><td>06888391</td><td>2</td><td>WAGNER APARECIDO ...</td><td>***345608**</td><td>49</td><td>20040630</td><td>null</td><td>***000000**</td><td>null</td><td>00</td><td>5</td></tr>\n",
       "<tr><td>06888430</td><td>2</td><td>SERGIO RICARDO LI...</td><td>***542024**</td><td>16</td><td>20070903</td><td>null</td><td>***000000**</td><td>null</td><td>00</td><td>4</td></tr>\n",
       "<tr><td>02522368</td><td>2</td><td>MANOEL ANTONIO SI...</td><td>***363378**</td><td>22</td><td>19980513</td><td>null</td><td>***000000**</td><td>null</td><td>00</td><td>8</td></tr>\n",
       "<tr><td>02522368</td><td>2</td><td>MIRTES MARIA DASC...</td><td>***168448**</td><td>49</td><td>19980513</td><td>null</td><td>***000000**</td><td>null</td><td>00</td><td>8</td></tr>\n",
       "<tr><td>01335500</td><td>2</td><td>NILDA RODRIGUES D...</td><td>***008016**</td><td>16</td><td>20050912</td><td>null</td><td>***000000**</td><td>null</td><td>00</td><td>7</td></tr>\n",
       "<tr><td>20660445</td><td>2</td><td>MARIO GONCALVES C...</td><td>***289906**</td><td>16</td><td>20050912</td><td>null</td><td>***000000**</td><td>null</td><td>00</td><td>9</td></tr>\n",
       "<tr><td>07632414</td><td>2</td><td>EDIOMARA DE RAMOS...</td><td>***093309**</td><td>65</td><td>20051010</td><td>null</td><td>***000000**</td><td>null</td><td>00</td><td>4</td></tr>\n",
       "<tr><td>06888866</td><td>2</td><td>ADRIANA DE PAIVA ...</td><td>***209916**</td><td>22</td><td>20040719</td><td>null</td><td>***000000**</td><td>null</td><td>00</td><td>6</td></tr>\n",
       "<tr><td>06888866</td><td>2</td><td>RAIMUNDO MOIA JUNIOR</td><td>***437286**</td><td>49</td><td>20040719</td><td>null</td><td>***000000**</td><td>null</td><td>00</td><td>5</td></tr>\n",
       "<tr><td>04723314</td><td>2</td><td>JANETE DE FATIMA ...</td><td>***168600**</td><td>49</td><td>20011017</td><td>null</td><td>***000000**</td><td>null</td><td>00</td><td>6</td></tr>\n",
       "<tr><td>57799819</td><td>2</td><td>DALVA MANHAS PIAN...</td><td>***514328**</td><td>65</td><td>20151016</td><td>null</td><td>***000000**</td><td>null</td><td>00</td><td>8</td></tr>\n",
       "<tr><td>20664264</td><td>2</td><td>JOSE VERISSIMO DE...</td><td>***758676**</td><td>16</td><td>20050912</td><td>null</td><td>***000000**</td><td>null</td><td>00</td><td>9</td></tr>\n",
       "<tr><td>20666962</td><td>2</td><td>MARIA DE FATIMA F...</td><td>***497766**</td><td>16</td><td>20050912</td><td>null</td><td>***000000**</td><td>null</td><td>00</td><td>7</td></tr>\n",
       "<tr><td>01336152</td><td>2</td><td>FERNANDO DE CASTR...</td><td>***144386**</td><td>49</td><td>19970723</td><td>null</td><td>***000000**</td><td>null</td><td>00</td><td>5</td></tr>\n",
       "<tr><td>01336152</td><td>2</td><td>DORACY ALVES TEIX...</td><td>***643126**</td><td>22</td><td>19970723</td><td>null</td><td>***000000**</td><td>null</td><td>00</td><td>7</td></tr>\n",
       "<tr><td>04723964</td><td>2</td><td>EMANUELA SOUZA LOPES</td><td>***333335**</td><td>49</td><td>20011005</td><td>null</td><td>***000000**</td><td>null</td><td>00</td><td>5</td></tr>\n",
       "<tr><td>04723964</td><td>2</td><td>JULIANO SCHAIDHAUER</td><td>***786090**</td><td>49</td><td>20011005</td><td>null</td><td>***000000**</td><td>null</td><td>00</td><td>5</td></tr>\n",
       "<tr><td>02649615</td><td>2</td><td>DERLY BRAGA LEAL</td><td>***292377**</td><td>49</td><td>20080104</td><td>null</td><td>***000000**</td><td>null</td><td>00</td><td>8</td></tr>\n",
       "<tr><td>04724038</td><td>2</td><td>ANDREA DEL BOSCO ...</td><td>***687551**</td><td>22</td><td>20011015</td><td>null</td><td>***000000**</td><td>null</td><td>00</td><td>5</td></tr>\n",
       "</table>\n",
       "only showing top 20 rows\n"
      ],
      "text/plain": [
       "+--------+--------+--------------------+-----------+--------------+----------------+----------------------+-----------------+----------------+----------------------+------------+\n",
       "|CNPJ_RAD|ID_SOCIO|            NM_SOCIO|  DOC_SOCIO|QUALIFIC_SOCIO|DT_ENT_SOCIEDADE|PAIS_SOCIO_ESTRANGEIRO|CPF_REPRESENTANTE|NM_REPRESENTANTE|QUALIFIC_REPRESENTANTE|FAIXA_ETARIA|\n",
       "+--------+--------+--------------------+-----------+--------------+----------------+----------------------+-----------------+----------------+----------------------+------------+\n",
       "|02954739|       2|LIDIANE BORGES PI...|***852188**|            49|        19990129|                  null|      ***000000**|            null|                    00|           5|\n",
       "|06888391|       2|WAGNER APARECIDO ...|***345608**|            49|        20040630|                  null|      ***000000**|            null|                    00|           5|\n",
       "|06888430|       2|SERGIO RICARDO LI...|***542024**|            16|        20070903|                  null|      ***000000**|            null|                    00|           4|\n",
       "|02522368|       2|MANOEL ANTONIO SI...|***363378**|            22|        19980513|                  null|      ***000000**|            null|                    00|           8|\n",
       "|02522368|       2|MIRTES MARIA DASC...|***168448**|            49|        19980513|                  null|      ***000000**|            null|                    00|           8|\n",
       "|01335500|       2|NILDA RODRIGUES D...|***008016**|            16|        20050912|                  null|      ***000000**|            null|                    00|           7|\n",
       "|20660445|       2|MARIO GONCALVES C...|***289906**|            16|        20050912|                  null|      ***000000**|            null|                    00|           9|\n",
       "|07632414|       2|EDIOMARA DE RAMOS...|***093309**|            65|        20051010|                  null|      ***000000**|            null|                    00|           4|\n",
       "|06888866|       2|ADRIANA DE PAIVA ...|***209916**|            22|        20040719|                  null|      ***000000**|            null|                    00|           6|\n",
       "|06888866|       2|RAIMUNDO MOIA JUNIOR|***437286**|            49|        20040719|                  null|      ***000000**|            null|                    00|           5|\n",
       "|04723314|       2|JANETE DE FATIMA ...|***168600**|            49|        20011017|                  null|      ***000000**|            null|                    00|           6|\n",
       "|57799819|       2|DALVA MANHAS PIAN...|***514328**|            65|        20151016|                  null|      ***000000**|            null|                    00|           8|\n",
       "|20664264|       2|JOSE VERISSIMO DE...|***758676**|            16|        20050912|                  null|      ***000000**|            null|                    00|           9|\n",
       "|20666962|       2|MARIA DE FATIMA F...|***497766**|            16|        20050912|                  null|      ***000000**|            null|                    00|           7|\n",
       "|01336152|       2|FERNANDO DE CASTR...|***144386**|            49|        19970723|                  null|      ***000000**|            null|                    00|           5|\n",
       "|01336152|       2|DORACY ALVES TEIX...|***643126**|            22|        19970723|                  null|      ***000000**|            null|                    00|           7|\n",
       "|04723964|       2|EMANUELA SOUZA LOPES|***333335**|            49|        20011005|                  null|      ***000000**|            null|                    00|           5|\n",
       "|04723964|       2| JULIANO SCHAIDHAUER|***786090**|            49|        20011005|                  null|      ***000000**|            null|                    00|           5|\n",
       "|02649615|       2|    DERLY BRAGA LEAL|***292377**|            49|        20080104|                  null|      ***000000**|            null|                    00|           8|\n",
       "|04724038|       2|ANDREA DEL BOSCO ...|***687551**|            22|        20011015|                  null|      ***000000**|            null|                    00|           5|\n",
       "+--------+--------+--------------------+-----------+--------------+----------------+----------------------+-----------------+----------------+----------------------+------------+\n",
       "only showing top 20 rows"
      ]
     },
     "metadata": {},
     "output_type": "display_data"
    }
   ],
   "source": [
    "display(socio)"
   ]
  },
  {
   "cell_type": "markdown",
   "metadata": {},
   "source": [
    "#### Quantidade de registros na base de Sócios"
   ]
  },
  {
   "cell_type": "code",
   "execution_count": 21,
   "metadata": {},
   "outputs": [
    {
     "data": {
      "text/plain": [
       "21565831"
      ]
     },
     "execution_count": 21,
     "metadata": {},
     "output_type": "execute_result"
    }
   ],
   "source": [
    "socio.count()"
   ]
  },
  {
   "cell_type": "markdown",
   "metadata": {},
   "source": [
    "#### Quantidade de sócios por empresa"
   ]
  },
  {
   "cell_type": "code",
   "execution_count": 84,
   "metadata": {},
   "outputs": [],
   "source": [
    "df_qtd_socio = socio\\\n",
    "                  .select('CNPJ_RAD')\\\n",
    "                  .groupby('CNPJ_RAD')\\\n",
    "                  .count()\\\n",
    "                  .withColumnRenamed('count','QTDE_SOCIOS')"
   ]
  },
  {
   "cell_type": "code",
   "execution_count": 85,
   "metadata": {},
   "outputs": [],
   "source": [
    "df_qtd_socio_emp = df_qtd_socio\\\n",
    "                  .select('QTDE_SOCIOS')\\\n",
    "                  .groupby('QTDE_SOCIOS')\\\n",
    "                  .count()\\\n",
    "                  .sort('QTDE_SOCIOS',ascending=True)"
   ]
  },
  {
   "cell_type": "code",
   "execution_count": 86,
   "metadata": {},
   "outputs": [
    {
     "data": {
      "text/html": [
       "<table border='1'>\n",
       "<tr><th>QTDE_SOCIOS</th><th>count</th></tr>\n",
       "<tr><td>1</td><td>4139135</td></tr>\n",
       "<tr><td>2</td><td>6356022</td></tr>\n",
       "<tr><td>3</td><td>709039</td></tr>\n",
       "<tr><td>4</td><td>245421</td></tr>\n",
       "<tr><td>5</td><td>92546</td></tr>\n",
       "<tr><td>6</td><td>47036</td></tr>\n",
       "<tr><td>7</td><td>23131</td></tr>\n",
       "<tr><td>8</td><td>14064</td></tr>\n",
       "<tr><td>9</td><td>8785</td></tr>\n",
       "<tr><td>10</td><td>6107</td></tr>\n",
       "</table>\n"
      ],
      "text/plain": [
       "+-----------+-------+\n",
       "|QTDE_SOCIOS|  count|\n",
       "+-----------+-------+\n",
       "|          1|4139135|\n",
       "|          2|6356022|\n",
       "|          3| 709039|\n",
       "|          4| 245421|\n",
       "|          5|  92546|\n",
       "|          6|  47036|\n",
       "|          7|  23131|\n",
       "|          8|  14064|\n",
       "|          9|   8785|\n",
       "|         10|   6107|\n",
       "+-----------+-------+"
      ]
     },
     "metadata": {},
     "output_type": "display_data"
    }
   ],
   "source": [
    "display(df_qtd_socio_emp.limit(10))"
   ]
  },
  {
   "cell_type": "markdown",
   "metadata": {},
   "source": [
    "Empresa com mais sócios"
   ]
  },
  {
   "cell_type": "code",
   "execution_count": 87,
   "metadata": {},
   "outputs": [
    {
     "data": {
      "text/plain": [
       "[Row(QTDE_SOCIOS=1149, count=1)]"
      ]
     },
     "execution_count": 87,
     "metadata": {},
     "output_type": "execute_result"
    }
   ],
   "source": [
    "df_qtd_socio_emp.tail(1)"
   ]
  },
  {
   "cell_type": "markdown",
   "metadata": {},
   "source": [
    "#### Faixa etária dos sócios"
   ]
  },
  {
   "cell_type": "markdown",
   "metadata": {},
   "source": [
    "Descrição dos códigos de faixa etária, informada pela Receita Federal\n",
    "\n",
    "- 1: para os intervalos entre 0 a 12 anos;\n",
    "- 2: para os intervalos entre 13 a 20 anos;\n",
    "- 3: para os intervalos entre 21 a 30 anos;\n",
    "- 4: para os intervalos entre 31 a 40 anos;\n",
    "- 5: para os intervalos entre 41 a 50 anos;\n",
    "- 6: para os intervalos entre 51 a 60 anos;\n",
    "- 7: para os intervalos entre 61 a 70 anos;\n",
    "- 8: para os intervalos entre 71 a 80 anos;\n",
    "- 9: para maiores de 80 anos.\n",
    "- 0: para não se aplica."
   ]
  },
  {
   "cell_type": "code",
   "execution_count": 108,
   "metadata": {},
   "outputs": [
    {
     "data": {
      "text/html": [
       "<table border='1'>\n",
       "<tr><th>DESC_FAIXA_ETARIA</th><th>count</th></tr>\n",
       "<tr><td>41 a 50 anos</td><td>5277844</td></tr>\n",
       "<tr><td>51 a 60 anos</td><td>4597962</td></tr>\n",
       "<tr><td>31 a 40 anos</td><td>4124948</td></tr>\n",
       "<tr><td>61 a 70 anos</td><td>3276022</td></tr>\n",
       "<tr><td>71 a 80 anos</td><td>1537384</td></tr>\n",
       "<tr><td>21 a 30 anos</td><td>1390167</td></tr>\n",
       "<tr><td>80 anos ou mais</td><td>746162</td></tr>\n",
       "<tr><td>Não se aplica</td><td>471386</td></tr>\n",
       "<tr><td>13 a 20 anos</td><td>116622</td></tr>\n",
       "<tr><td>0 a 12 anos</td><td>27334</td></tr>\n",
       "</table>\n"
      ],
      "text/plain": [
       "+-----------------+-------+\n",
       "|DESC_FAIXA_ETARIA|  count|\n",
       "+-----------------+-------+\n",
       "|     41 a 50 anos|5277844|\n",
       "|     51 a 60 anos|4597962|\n",
       "|     31 a 40 anos|4124948|\n",
       "|     61 a 70 anos|3276022|\n",
       "|     71 a 80 anos|1537384|\n",
       "|     21 a 30 anos|1390167|\n",
       "|  80 anos ou mais| 746162|\n",
       "|    Não se aplica| 471386|\n",
       "|     13 a 20 anos| 116622|\n",
       "|      0 a 12 anos|  27334|\n",
       "+-----------------+-------+"
      ]
     },
     "metadata": {},
     "output_type": "display_data"
    }
   ],
   "source": [
    "df_faixa_etaria = socio\\\n",
    "            .select('FAIXA_ETARIA')\\\n",
    "            .groupby('FAIXA_ETARIA')\\\n",
    "            .count()\\\n",
    "            .sort('count',ascending=False)\n",
    "\n",
    "df_faixa_etaria = df_faixa_etaria.withColumn('DESC_FAIXA_ETARIA', \n",
    "                     f.when(f.col('FAIXA_ETARIA') == '1','0 a 12 anos')\n",
    "                      .when(f.col('FAIXA_ETARIA') == '2','13 a 20 anos')\n",
    "                      .when(f.col('FAIXA_ETARIA') == '3','21 a 30 anos')\n",
    "                      .when(f.col('FAIXA_ETARIA') == '4','31 a 40 anos')\n",
    "                      .when(f.col('FAIXA_ETARIA') == '5','41 a 50 anos')\n",
    "                      .when(f.col('FAIXA_ETARIA') == '6','51 a 60 anos')\n",
    "                      .when(f.col('FAIXA_ETARIA') == '7','61 a 70 anos')\n",
    "                      .when(f.col('FAIXA_ETARIA') == '8','71 a 80 anos')\n",
    "                      .when(f.col('FAIXA_ETARIA') == '9','80 anos ou mais')\n",
    "                      .when(f.col('FAIXA_ETARIA') == '0','Não se aplica')\n",
    "                     .otherwise(f.lit('Nulo'))\n",
    "                    )\n",
    "df_faixa_etaria.drop('FAIXA_ETARIA')\n",
    "\n",
    "display(df_faixa_etaria.select('DESC_FAIXA_ETARIA','count'))"
   ]
  },
  {
   "cell_type": "markdown",
   "metadata": {},
   "source": [
    "#### Nacionalidade dos sócios"
   ]
  },
  {
   "cell_type": "markdown",
   "metadata": {},
   "source": [
    "Baixando o arquivo com a descrição do país"
   ]
  },
  {
   "cell_type": "code",
   "execution_count": 99,
   "metadata": {},
   "outputs": [
    {
     "name": "stdout",
     "output_type": "stream",
     "text": [
      "\r",
      "  0% [                                                                                ]    0 / 2745\r",
      "100% [................................................................................] 2745 / 2745\n",
      "Extraindo F.K03200$Z.D20514.PAISCSV.zip ...\n",
      "Arquivo F.K03200$Z.D20514.PAISCSV.zip não será mais necessário e por isso foi deletado!\n",
      "Arquivo DESC_PAIS.CSV disponibilizado em C:/Users/thiago.silva/CNPJ_RFB_PI_IV\n"
     ]
    }
   ],
   "source": [
    "url = 'http://200.152.38.155/CNPJ/F.K03200$Z.D20514.PAISCSV.zip'\n",
    "\n",
    "filename = wget.download(url)\n",
    "\n",
    "with ZipFile(filename, 'r') as zipObj:\n",
    "    print(f'\\nExtraindo {filename} ...')\n",
    "    zipObj.extractall()\n",
    "\n",
    "filename_0extension = filename.replace('.zip','')\n",
    "filename_to_csv = 'DESC_PAIS.CSV'\n",
    "        \n",
    "file_oldname = os.path.join(\"C:/Users/thiago.silva/CNPJ_RFB_PI_IV\", filename_0extension)\n",
    "file_newname_newfile = os.path.join(\"C:/Users/thiago.silva/CNPJ_RFB_PI_IV\", filename_to_csv)\n",
    "os.rename(file_oldname, file_newname_newfile)\n",
    "\n",
    "DeleteZipFile = filename\n",
    "\n",
    "try:\n",
    "    os.remove(DeleteZipFile)\n",
    "except OSError as e:\n",
    "    print(e)\n",
    "else:\n",
    "    print(f'Arquivo {DeleteZipFile} não será mais necessário e por isso foi deletado!')\n",
    "    print(f'Arquivo {filename_to_csv} disponibilizado em C:/Users/thiago.silva/CNPJ_RFB_PI_IV')"
   ]
  },
  {
   "cell_type": "code",
   "execution_count": 103,
   "metadata": {},
   "outputs": [],
   "source": [
    "csvSchema = StructType(\n",
    "    [StructField('PAIS_SOCIO_ESTRANGEIRO',StringType(),True),\\\n",
    "     StructField('DESC_PAIS_SOCIO_ESTRANGEIRO',StringType(),True)])\n",
    "\n",
    "tb_pais = spark.read.csv('DESC_PAIS.CSV', header=None, schema=csvSchema, sep=';', encoding='windows-1252')"
   ]
  },
  {
   "cell_type": "code",
   "execution_count": 102,
   "metadata": {},
   "outputs": [],
   "source": [
    "df_pais_socio = socio\\\n",
    "                  .select('PAIS_SOCIO_ESTRANGEIRO')\\\n",
    "                  .groupby('PAIS_SOCIO_ESTRANGEIRO')\\\n",
    "                  .count()\\\n",
    "                  .sort('count',ascending=False)"
   ]
  },
  {
   "cell_type": "code",
   "execution_count": 104,
   "metadata": {},
   "outputs": [],
   "source": [
    "df_pais_socio = df_pais_socio.join(tb_pais,['PAIS_SOCIO_ESTRANGEIRO'],'left')"
   ]
  },
  {
   "cell_type": "code",
   "execution_count": 106,
   "metadata": {},
   "outputs": [
    {
     "name": "stdout",
     "output_type": "stream",
     "text": [
      "+---------------------------+--------+\n",
      "|DESC_PAIS_SOCIO_ESTRANGEIRO|count   |\n",
      "+---------------------------+--------+\n",
      "|null                       |21484051|\n",
      "|ESTADOS UNIDOS             |15818   |\n",
      "|ITALIA                     |7303    |\n",
      "|ESPANHA                    |6166    |\n",
      "|PORTUGAL                   |5333    |\n",
      "|URUGUAI                    |4243    |\n",
      "|ALEMANHA                   |3731    |\n",
      "|FRANCA                     |3665    |\n",
      "|Países Baixos (Holanda)    |3392    |\n",
      "|ARGENTINA                  |3387    |\n",
      "|SUICA                      |2136    |\n",
      "|null                       |2118    |\n",
      "|VIRGENS, ILHAS (BRITANICAS)|2055    |\n",
      "|REINO UNIDO                |1683    |\n",
      "|China, República Popular   |1633    |\n",
      "|PANAMA                     |1490    |\n",
      "|CANADA                     |1376    |\n",
      "|LUXEMBURGO                 |1111    |\n",
      "|JAPAO                      |1024    |\n",
      "|BELGICA                    |795     |\n",
      "+---------------------------+--------+\n",
      "only showing top 20 rows\n",
      "\n"
     ]
    }
   ],
   "source": [
    "df_pais_socio.select('DESC_PAIS_SOCIO_ESTRANGEIRO','count').show(truncate=False)"
   ]
  }
 ],
 "metadata": {
  "colab": {
   "collapsed_sections": [],
   "name": "CNPJ_RFB.ipynb",
   "provenance": []
  },
  "kernelspec": {
   "display_name": "Python 3 (ipykernel)",
   "language": "python",
   "name": "python3"
  },
  "language_info": {
   "codemirror_mode": {
    "name": "ipython",
    "version": 3
   },
   "file_extension": ".py",
   "mimetype": "text/x-python",
   "name": "python",
   "nbconvert_exporter": "python",
   "pygments_lexer": "ipython3",
   "version": "3.10.9"
  }
 },
 "nbformat": 4,
 "nbformat_minor": 1
}
